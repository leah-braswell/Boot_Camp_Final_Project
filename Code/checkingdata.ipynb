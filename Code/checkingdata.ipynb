{
 "cells": [
  {
   "cell_type": "code",
   "execution_count": 1,
   "metadata": {},
   "outputs": [],
   "source": [
    "import pandas as pd"
   ]
  },
  {
   "cell_type": "code",
   "execution_count": 10,
   "metadata": {},
   "outputs": [
    {
     "output_type": "execute_result",
     "data": {
      "text/plain": [
       "   Student ID Gender  Ethnicity\n",
       "0  3503072149      F  Caucasian\n",
       "1  3503272049      M  Caucasian\n",
       "2  3503482049      F  Caucasian\n",
       "3  3503481749      M  Caucasian\n",
       "4  3503492049      F  Caucasian"
      ],
      "text/html": "<div>\n<style scoped>\n    .dataframe tbody tr th:only-of-type {\n        vertical-align: middle;\n    }\n\n    .dataframe tbody tr th {\n        vertical-align: top;\n    }\n\n    .dataframe thead th {\n        text-align: right;\n    }\n</style>\n<table border=\"1\" class=\"dataframe\">\n  <thead>\n    <tr style=\"text-align: right;\">\n      <th></th>\n      <th>Student ID</th>\n      <th>Gender</th>\n      <th>Ethnicity</th>\n    </tr>\n  </thead>\n  <tbody>\n    <tr>\n      <th>0</th>\n      <td>3503072149</td>\n      <td>F</td>\n      <td>Caucasian</td>\n    </tr>\n    <tr>\n      <th>1</th>\n      <td>3503272049</td>\n      <td>M</td>\n      <td>Caucasian</td>\n    </tr>\n    <tr>\n      <th>2</th>\n      <td>3503482049</td>\n      <td>F</td>\n      <td>Caucasian</td>\n    </tr>\n    <tr>\n      <th>3</th>\n      <td>3503481749</td>\n      <td>M</td>\n      <td>Caucasian</td>\n    </tr>\n    <tr>\n      <th>4</th>\n      <td>3503492049</td>\n      <td>F</td>\n      <td>Caucasian</td>\n    </tr>\n  </tbody>\n</table>\n</div>"
     },
     "metadata": {},
     "execution_count": 10
    }
   ],
   "source": [
    "demo_df = pd.read_csv('Final_Data/Demographics.csv')\n",
    "demo_df.head()"
   ]
  },
  {
   "cell_type": "code",
   "execution_count": 13,
   "metadata": {},
   "outputs": [
    {
     "output_type": "execute_result",
     "data": {
      "text/plain": [
       "Series([], dtype: float64)"
      ]
     },
     "metadata": {},
     "execution_count": 13
    }
   ],
   "source": [
    "null_columns=demo_df.columns[demo_df.isnull().any()]\n",
    "demo_df[null_columns].isnull().sum()"
   ]
  },
  {
   "cell_type": "code",
   "execution_count": 17,
   "metadata": {},
   "outputs": [
    {
     "output_type": "execute_result",
     "data": {
      "text/plain": [
       "     Student ID  Fall_Diag  Winter_Diag\n",
       "0  3.507952e+09      526.0        573.0\n",
       "1  3.508422e+09      551.0        558.0\n",
       "2  3.594152e+09      583.0        583.0\n",
       "3  3.510551e+09      463.0        512.0\n",
       "4  3.512401e+09      472.0        488.0"
      ],
      "text/html": "<div>\n<style scoped>\n    .dataframe tbody tr th:only-of-type {\n        vertical-align: middle;\n    }\n\n    .dataframe tbody tr th {\n        vertical-align: top;\n    }\n\n    .dataframe thead th {\n        text-align: right;\n    }\n</style>\n<table border=\"1\" class=\"dataframe\">\n  <thead>\n    <tr style=\"text-align: right;\">\n      <th></th>\n      <th>Student ID</th>\n      <th>Fall_Diag</th>\n      <th>Winter_Diag</th>\n    </tr>\n  </thead>\n  <tbody>\n    <tr>\n      <th>0</th>\n      <td>3.507952e+09</td>\n      <td>526.0</td>\n      <td>573.0</td>\n    </tr>\n    <tr>\n      <th>1</th>\n      <td>3.508422e+09</td>\n      <td>551.0</td>\n      <td>558.0</td>\n    </tr>\n    <tr>\n      <th>2</th>\n      <td>3.594152e+09</td>\n      <td>583.0</td>\n      <td>583.0</td>\n    </tr>\n    <tr>\n      <th>3</th>\n      <td>3.510551e+09</td>\n      <td>463.0</td>\n      <td>512.0</td>\n    </tr>\n    <tr>\n      <th>4</th>\n      <td>3.512401e+09</td>\n      <td>472.0</td>\n      <td>488.0</td>\n    </tr>\n  </tbody>\n</table>\n</div>"
     },
     "metadata": {},
     "execution_count": 17
    }
   ],
   "source": [
    "ela_df = pd.read_csv('Final_Data/ELA_DATA.csv')\n",
    "ela_df.head()"
   ]
  },
  {
   "cell_type": "code",
   "execution_count": 18,
   "metadata": {},
   "outputs": [
    {
     "output_type": "stream",
     "name": "stdout",
     "text": [
      "     Student ID  Fall_Diag  Winter_Diag\n638         NaN        NaN          NaN\n639         NaN        NaN          NaN\n640         NaN        NaN          NaN\n641         NaN        NaN          NaN\n642         NaN        NaN          NaN\n"
     ]
    }
   ],
   "source": [
    "print(ela_df[ela_df.isnull().any(axis=1)][null_columns].head())"
   ]
  },
  {
   "cell_type": "code",
   "execution_count": 19,
   "metadata": {},
   "outputs": [
    {
     "output_type": "execute_result",
     "data": {
      "text/plain": [
       "   Student ID Retained Attendance Behavior\n",
       "0  3507951708       no         no       no\n",
       "1  3508421508       no         no       no\n",
       "2  3594151577       no         no       no\n",
       "3  3510551409      yes         no       no\n",
       "4  3512401409       no         no       no"
      ],
      "text/html": "<div>\n<style scoped>\n    .dataframe tbody tr th:only-of-type {\n        vertical-align: middle;\n    }\n\n    .dataframe tbody tr th {\n        vertical-align: top;\n    }\n\n    .dataframe thead th {\n        text-align: right;\n    }\n</style>\n<table border=\"1\" class=\"dataframe\">\n  <thead>\n    <tr style=\"text-align: right;\">\n      <th></th>\n      <th>Student ID</th>\n      <th>Retained</th>\n      <th>Attendance</th>\n      <th>Behavior</th>\n    </tr>\n  </thead>\n  <tbody>\n    <tr>\n      <th>0</th>\n      <td>3507951708</td>\n      <td>no</td>\n      <td>no</td>\n      <td>no</td>\n    </tr>\n    <tr>\n      <th>1</th>\n      <td>3508421508</td>\n      <td>no</td>\n      <td>no</td>\n      <td>no</td>\n    </tr>\n    <tr>\n      <th>2</th>\n      <td>3594151577</td>\n      <td>no</td>\n      <td>no</td>\n      <td>no</td>\n    </tr>\n    <tr>\n      <th>3</th>\n      <td>3510551409</td>\n      <td>yes</td>\n      <td>no</td>\n      <td>no</td>\n    </tr>\n    <tr>\n      <th>4</th>\n      <td>3512401409</td>\n      <td>no</td>\n      <td>no</td>\n      <td>no</td>\n    </tr>\n  </tbody>\n</table>\n</div>"
     },
     "metadata": {},
     "execution_count": 19
    }
   ],
   "source": [
    "ews_df = pd.read_csv('Final_Data/EWSdata.csv')\n",
    "ews_df.head()"
   ]
  },
  {
   "cell_type": "code",
   "execution_count": 22,
   "metadata": {},
   "outputs": [
    {
     "output_type": "execute_result",
     "data": {
      "text/plain": [
       "     Student ID Retained Attendance Behavior\n",
       "977  4804403979       no         no       no\n",
       "978  4804407398       no         no       no\n",
       "979  4804425722       no         no       no\n",
       "980  5214007671       no         no       no\n",
       "981  5217011648       no         no       no\n",
       "982  5300737281       no         no       no\n",
       "983  5300804881       no         no       no\n",
       "984  5300804904       no         no       no\n",
       "985  5300808004       no         no       no\n",
       "986  5929005828       no         no       no"
      ],
      "text/html": "<div>\n<style scoped>\n    .dataframe tbody tr th:only-of-type {\n        vertical-align: middle;\n    }\n\n    .dataframe tbody tr th {\n        vertical-align: top;\n    }\n\n    .dataframe thead th {\n        text-align: right;\n    }\n</style>\n<table border=\"1\" class=\"dataframe\">\n  <thead>\n    <tr style=\"text-align: right;\">\n      <th></th>\n      <th>Student ID</th>\n      <th>Retained</th>\n      <th>Attendance</th>\n      <th>Behavior</th>\n    </tr>\n  </thead>\n  <tbody>\n    <tr>\n      <th>977</th>\n      <td>4804403979</td>\n      <td>no</td>\n      <td>no</td>\n      <td>no</td>\n    </tr>\n    <tr>\n      <th>978</th>\n      <td>4804407398</td>\n      <td>no</td>\n      <td>no</td>\n      <td>no</td>\n    </tr>\n    <tr>\n      <th>979</th>\n      <td>4804425722</td>\n      <td>no</td>\n      <td>no</td>\n      <td>no</td>\n    </tr>\n    <tr>\n      <th>980</th>\n      <td>5214007671</td>\n      <td>no</td>\n      <td>no</td>\n      <td>no</td>\n    </tr>\n    <tr>\n      <th>981</th>\n      <td>5217011648</td>\n      <td>no</td>\n      <td>no</td>\n      <td>no</td>\n    </tr>\n    <tr>\n      <th>982</th>\n      <td>5300737281</td>\n      <td>no</td>\n      <td>no</td>\n      <td>no</td>\n    </tr>\n    <tr>\n      <th>983</th>\n      <td>5300804881</td>\n      <td>no</td>\n      <td>no</td>\n      <td>no</td>\n    </tr>\n    <tr>\n      <th>984</th>\n      <td>5300804904</td>\n      <td>no</td>\n      <td>no</td>\n      <td>no</td>\n    </tr>\n    <tr>\n      <th>985</th>\n      <td>5300808004</td>\n      <td>no</td>\n      <td>no</td>\n      <td>no</td>\n    </tr>\n    <tr>\n      <th>986</th>\n      <td>5929005828</td>\n      <td>no</td>\n      <td>no</td>\n      <td>no</td>\n    </tr>\n  </tbody>\n</table>\n</div>"
     },
     "metadata": {},
     "execution_count": 22
    }
   ],
   "source": [
    "ews_df['Retained'] = ews_df['Retained'].str.lower()\n",
    "ews_df['Attendance'] = ews_df['Attendance'].str.lower()\n",
    "ews_df['Behavior'] = ews_df['Behavior'].str.lower()\n",
    "ews_df.tail(10)"
   ]
  },
  {
   "cell_type": "code",
   "execution_count": 24,
   "metadata": {},
   "outputs": [],
   "source": [
    "ews_df = ews_df.to_csv('Final_Data/EWSdataCleaned.csv', index=True)"
   ]
  }
 ],
 "metadata": {
  "kernelspec": {
   "name": "python3",
   "display_name": "Python 3.7.7 64-bit ('PythonData': conda)",
   "metadata": {
    "interpreter": {
     "hash": "867ee1f9ffd2c3f7d9b18fcb7f768b34351ea88cc5b65635107fe9ab46bef117"
    }
   }
  }
 },
 "nbformat": 4,
 "nbformat_minor": 4
}