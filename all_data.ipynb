{
 "metadata": {
  "language_info": {
   "codemirror_mode": {
    "name": "ipython",
    "version": 3
   },
   "file_extension": ".py",
   "mimetype": "text/x-python",
   "name": "python",
   "nbconvert_exporter": "python",
   "pygments_lexer": "ipython3",
   "version": "3.7.7-final"
  },
  "orig_nbformat": 2,
  "kernelspec": {
   "name": "mlenv",
   "display_name": "mlenv",
   "language": "python"
  }
 },
 "nbformat": 4,
 "nbformat_minor": 2,
 "cells": [
  {
   "cell_type": "code",
   "execution_count": 1,
   "metadata": {},
   "outputs": [],
   "source": [
    "import pandas as pd\n",
    "import numpy as np "
   ]
  },
  {
   "cell_type": "code",
   "execution_count": 2,
   "metadata": {},
   "outputs": [],
   "source": [
    "# Load files\n",
    "Demographics_file = \"Demographics.csv\"\n",
    "Achievement_file = \"Achievement_Levels.csv\"\n",
    "EWSdata_file = \"EWSdata.csv\"\n",
    "ELAdata_file = \"ELA_DATA.csv\"\n",
    "MATHdata_file = \"MATH_DATA.csv\"\n",
    "\n",
    "Demographics_df = pd.read_csv(Demographics_file)\n",
    "Achievement_df = pd.read_csv(Achievement_file)\n",
    "EWSdata_df = pd.read_csv(EWSdata_file)\n",
    "ELAdata_df = pd.read_csv(ELAdata_file)\n",
    "MATHdata_df = pd.read_csv(MATHdata_file)"
   ]
  },
  {
   "cell_type": "code",
   "execution_count": 3,
   "metadata": {},
   "outputs": [
    {
     "output_type": "execute_result",
     "data": {
      "text/plain": [
       "     Student ID Gender     Ethnicity\n",
       "945  3515041508      F  Multi-Racial"
      ],
      "text/html": "<div>\n<style scoped>\n    .dataframe tbody tr th:only-of-type {\n        vertical-align: middle;\n    }\n\n    .dataframe tbody tr th {\n        vertical-align: top;\n    }\n\n    .dataframe thead th {\n        text-align: right;\n    }\n</style>\n<table border=\"1\" class=\"dataframe\">\n  <thead>\n    <tr style=\"text-align: right;\">\n      <th></th>\n      <th>Student ID</th>\n      <th>Gender</th>\n      <th>Ethnicity</th>\n    </tr>\n  </thead>\n  <tbody>\n    <tr>\n      <th>945</th>\n      <td>3515041508</td>\n      <td>F</td>\n      <td>Multi-Racial</td>\n    </tr>\n  </tbody>\n</table>\n</div>"
     },
     "metadata": {},
     "execution_count": 3
    }
   ],
   "source": [
    "# Sample of Demographics.csv data\n",
    "Demographics_df.sample()"
   ]
  },
  {
   "cell_type": "code",
   "execution_count": 4,
   "metadata": {},
   "outputs": [
    {
     "output_type": "execute_result",
     "data": {
      "text/plain": [
       "     Student ID  FSA_ELA  FSA_MATH\n",
       "184  3571301431        2         2"
      ],
      "text/html": "<div>\n<style scoped>\n    .dataframe tbody tr th:only-of-type {\n        vertical-align: middle;\n    }\n\n    .dataframe tbody tr th {\n        vertical-align: top;\n    }\n\n    .dataframe thead th {\n        text-align: right;\n    }\n</style>\n<table border=\"1\" class=\"dataframe\">\n  <thead>\n    <tr style=\"text-align: right;\">\n      <th></th>\n      <th>Student ID</th>\n      <th>FSA_ELA</th>\n      <th>FSA_MATH</th>\n    </tr>\n  </thead>\n  <tbody>\n    <tr>\n      <th>184</th>\n      <td>3571301431</td>\n      <td>2</td>\n      <td>2</td>\n    </tr>\n  </tbody>\n</table>\n</div>"
     },
     "metadata": {},
     "execution_count": 4
    }
   ],
   "source": [
    "# Sample of Achivement_Levels.csv data\n",
    "Achievement_df.sample()"
   ]
  },
  {
   "cell_type": "code",
   "execution_count": 5,
   "metadata": {},
   "outputs": [
    {
     "output_type": "execute_result",
     "data": {
      "text/plain": [
       "   Student ID Retained Attendance Behavior\n",
       "0  3507951708       no         no       no"
      ],
      "text/html": "<div>\n<style scoped>\n    .dataframe tbody tr th:only-of-type {\n        vertical-align: middle;\n    }\n\n    .dataframe tbody tr th {\n        vertical-align: top;\n    }\n\n    .dataframe thead th {\n        text-align: right;\n    }\n</style>\n<table border=\"1\" class=\"dataframe\">\n  <thead>\n    <tr style=\"text-align: right;\">\n      <th></th>\n      <th>Student ID</th>\n      <th>Retained</th>\n      <th>Attendance</th>\n      <th>Behavior</th>\n    </tr>\n  </thead>\n  <tbody>\n    <tr>\n      <th>0</th>\n      <td>3507951708</td>\n      <td>no</td>\n      <td>no</td>\n      <td>no</td>\n    </tr>\n  </tbody>\n</table>\n</div>"
     },
     "metadata": {},
     "execution_count": 5
    }
   ],
   "source": [
    "# Sample of EWSdata.csv data\n",
    "EWSdata_df.sample()"
   ]
  },
  {
   "cell_type": "code",
   "execution_count": 6,
   "metadata": {},
   "outputs": [
    {
     "output_type": "execute_result",
     "data": {
      "text/plain": [
       "       Student ID  Fall_Diag  Winter_Diag\n",
       "592  3.576162e+09      534.0        551.0"
      ],
      "text/html": "<div>\n<style scoped>\n    .dataframe tbody tr th:only-of-type {\n        vertical-align: middle;\n    }\n\n    .dataframe tbody tr th {\n        vertical-align: top;\n    }\n\n    .dataframe thead th {\n        text-align: right;\n    }\n</style>\n<table border=\"1\" class=\"dataframe\">\n  <thead>\n    <tr style=\"text-align: right;\">\n      <th></th>\n      <th>Student ID</th>\n      <th>Fall_Diag</th>\n      <th>Winter_Diag</th>\n    </tr>\n  </thead>\n  <tbody>\n    <tr>\n      <th>592</th>\n      <td>3.576162e+09</td>\n      <td>534.0</td>\n      <td>551.0</td>\n    </tr>\n  </tbody>\n</table>\n</div>"
     },
     "metadata": {},
     "execution_count": 6
    }
   ],
   "source": [
    "# Sample of ELAdta.csv data\n",
    "ELAdata_df.sample()"
   ]
  },
  {
   "cell_type": "code",
   "execution_count": 7,
   "metadata": {},
   "outputs": [
    {
     "output_type": "execute_result",
     "data": {
      "text/plain": [
       "     Student ID  Fall_Diag  Winter_Diag\n",
       "482  3517251749        388          424"
      ],
      "text/html": "<div>\n<style scoped>\n    .dataframe tbody tr th:only-of-type {\n        vertical-align: middle;\n    }\n\n    .dataframe tbody tr th {\n        vertical-align: top;\n    }\n\n    .dataframe thead th {\n        text-align: right;\n    }\n</style>\n<table border=\"1\" class=\"dataframe\">\n  <thead>\n    <tr style=\"text-align: right;\">\n      <th></th>\n      <th>Student ID</th>\n      <th>Fall_Diag</th>\n      <th>Winter_Diag</th>\n    </tr>\n  </thead>\n  <tbody>\n    <tr>\n      <th>482</th>\n      <td>3517251749</td>\n      <td>388</td>\n      <td>424</td>\n    </tr>\n  </tbody>\n</table>\n</div>"
     },
     "metadata": {},
     "execution_count": 7
    }
   ],
   "source": [
    "# Sample of MATHdata.csv data\n",
    "MATHdata_df.sample()"
   ]
  },
  {
   "cell_type": "code",
   "execution_count": 8,
   "metadata": {},
   "outputs": [],
   "source": [
    "# Merging all files together on 'Student ID' column\n",
    "all_data = Demographics_df.merge(Achievement_df,on='Student ID').merge(EWSdata_df,on='Student ID').merge(ELAdata_df,on='Student ID').merge(MATHdata_df,on='Student ID')"
   ]
  },
  {
   "cell_type": "code",
   "execution_count": 9,
   "metadata": {},
   "outputs": [
    {
     "output_type": "execute_result",
     "data": {
      "text/plain": [
       "   Student ID Gender  Ethnicity  FSA_ELA  FSA_MATH Retained Attendance  \\\n",
       "3  3509881649      M  Caucasian        5         5       NO         NO   \n",
       "\n",
       "  Behavior  Fall_Diag_x  Winter_Diag_x  Fall_Diag_y  Winter_Diag_y  \n",
       "3       NO        530.0          556.0          476            496  "
      ],
      "text/html": "<div>\n<style scoped>\n    .dataframe tbody tr th:only-of-type {\n        vertical-align: middle;\n    }\n\n    .dataframe tbody tr th {\n        vertical-align: top;\n    }\n\n    .dataframe thead th {\n        text-align: right;\n    }\n</style>\n<table border=\"1\" class=\"dataframe\">\n  <thead>\n    <tr style=\"text-align: right;\">\n      <th></th>\n      <th>Student ID</th>\n      <th>Gender</th>\n      <th>Ethnicity</th>\n      <th>FSA_ELA</th>\n      <th>FSA_MATH</th>\n      <th>Retained</th>\n      <th>Attendance</th>\n      <th>Behavior</th>\n      <th>Fall_Diag_x</th>\n      <th>Winter_Diag_x</th>\n      <th>Fall_Diag_y</th>\n      <th>Winter_Diag_y</th>\n    </tr>\n  </thead>\n  <tbody>\n    <tr>\n      <th>3</th>\n      <td>3509881649</td>\n      <td>M</td>\n      <td>Caucasian</td>\n      <td>5</td>\n      <td>5</td>\n      <td>NO</td>\n      <td>NO</td>\n      <td>NO</td>\n      <td>530.0</td>\n      <td>556.0</td>\n      <td>476</td>\n      <td>496</td>\n    </tr>\n  </tbody>\n</table>\n</div>"
     },
     "metadata": {},
     "execution_count": 9
    }
   ],
   "source": [
    "all_data.sample()"
   ]
  },
  {
   "cell_type": "code",
   "execution_count": 11,
   "metadata": {},
   "outputs": [
    {
     "output_type": "execute_result",
     "data": {
      "text/plain": [
       "    Student ID Gender  Ethnicity  FSA_ELA Retained Attendance Behavior  \\\n",
       "97  3548611608      F  Caucasian        3       NO         NO       NO   \n",
       "\n",
       "    Fall_Diag  Winter_Diag  \n",
       "97      509.0        553.0  "
      ],
      "text/html": "<div>\n<style scoped>\n    .dataframe tbody tr th:only-of-type {\n        vertical-align: middle;\n    }\n\n    .dataframe tbody tr th {\n        vertical-align: top;\n    }\n\n    .dataframe thead th {\n        text-align: right;\n    }\n</style>\n<table border=\"1\" class=\"dataframe\">\n  <thead>\n    <tr style=\"text-align: right;\">\n      <th></th>\n      <th>Student ID</th>\n      <th>Gender</th>\n      <th>Ethnicity</th>\n      <th>FSA_ELA</th>\n      <th>Retained</th>\n      <th>Attendance</th>\n      <th>Behavior</th>\n      <th>Fall_Diag</th>\n      <th>Winter_Diag</th>\n    </tr>\n  </thead>\n  <tbody>\n    <tr>\n      <th>97</th>\n      <td>3548611608</td>\n      <td>F</td>\n      <td>Caucasian</td>\n      <td>3</td>\n      <td>NO</td>\n      <td>NO</td>\n      <td>NO</td>\n      <td>509.0</td>\n      <td>553.0</td>\n    </tr>\n  </tbody>\n</table>\n</div>"
     },
     "metadata": {},
     "execution_count": 11
    }
   ],
   "source": [
    "# Mergin data for ELA\n",
    "ela_data = Demographics_df.merge(Achievement_df,on='Student ID').merge(EWSdata_df,on='Student ID').merge(ELAdata_df,on='Student ID')\n",
    "ela_data = ela_data.drop(['FSA_MATH'],axis=1)\n",
    "ela_data.sample()"
   ]
  },
  {
   "cell_type": "code",
   "execution_count": 12,
   "metadata": {},
   "outputs": [
    {
     "output_type": "execute_result",
     "data": {
      "text/plain": [
       "     Student ID Gender         Ethnicity  FSA_MATH Retained Attendance  \\\n",
       "105  3555201608      F  African American         5       NO         NO   \n",
       "\n",
       "    Behavior  Fall_Diag  Winter_Diag  \n",
       "105       NO        468          493  "
      ],
      "text/html": "<div>\n<style scoped>\n    .dataframe tbody tr th:only-of-type {\n        vertical-align: middle;\n    }\n\n    .dataframe tbody tr th {\n        vertical-align: top;\n    }\n\n    .dataframe thead th {\n        text-align: right;\n    }\n</style>\n<table border=\"1\" class=\"dataframe\">\n  <thead>\n    <tr style=\"text-align: right;\">\n      <th></th>\n      <th>Student ID</th>\n      <th>Gender</th>\n      <th>Ethnicity</th>\n      <th>FSA_MATH</th>\n      <th>Retained</th>\n      <th>Attendance</th>\n      <th>Behavior</th>\n      <th>Fall_Diag</th>\n      <th>Winter_Diag</th>\n    </tr>\n  </thead>\n  <tbody>\n    <tr>\n      <th>105</th>\n      <td>3555201608</td>\n      <td>F</td>\n      <td>African American</td>\n      <td>5</td>\n      <td>NO</td>\n      <td>NO</td>\n      <td>NO</td>\n      <td>468</td>\n      <td>493</td>\n    </tr>\n  </tbody>\n</table>\n</div>"
     },
     "metadata": {},
     "execution_count": 12
    }
   ],
   "source": [
    "# Mergin data for MATH\n",
    "math_data = Demographics_df.merge(Achievement_df,on='Student ID').merge(EWSdata_df,on='Student ID').merge(MATHdata_df,on='Student ID')\n",
    "math_data = math_data.drop(['FSA_ELA'],axis=1)\n",
    "math_data.sample()"
   ]
  },
  {
   "cell_type": "code",
   "execution_count": 13,
   "metadata": {},
   "outputs": [
    {
     "output_type": "execute_result",
     "data": {
      "text/plain": [
       "Student ID       0\n",
       "Gender           0\n",
       "Ethnicity        0\n",
       "FSA_ELA          0\n",
       "FSA_MATH         0\n",
       "Retained         0\n",
       "Attendance       0\n",
       "Behavior         0\n",
       "Fall_Diag_x      0\n",
       "Winter_Diag_x    0\n",
       "Fall_Diag_y      0\n",
       "Winter_Diag_y    0\n",
       "dtype: int64"
      ]
     },
     "metadata": {},
     "execution_count": 13
    }
   ],
   "source": [
    "# Checking if null data \n",
    "all_data.isnull().sum()"
   ]
  },
  {
   "cell_type": "code",
   "execution_count": 14,
   "metadata": {},
   "outputs": [
    {
     "output_type": "execute_result",
     "data": {
      "text/plain": [
       "Student ID       0\n",
       "Gender           0\n",
       "Ethnicity        0\n",
       "FSA_ELA          0\n",
       "FSA_MATH         0\n",
       "Retained         0\n",
       "Attendance       0\n",
       "Behavior         0\n",
       "Fall_Diag_x      0\n",
       "Winter_Diag_x    0\n",
       "Fall_Diag_y      0\n",
       "Winter_Diag_y    0\n",
       "dtype: int64"
      ]
     },
     "metadata": {},
     "execution_count": 14
    }
   ],
   "source": [
    "# Checking if na data\n",
    "all_data.isna().sum()"
   ]
  },
  {
   "cell_type": "code",
   "execution_count": 15,
   "metadata": {},
   "outputs": [],
   "source": [
    "# Export all_data\n",
    "# all_data.to_csv('all_data.csv',index=False)"
   ]
  },
  {
   "cell_type": "code",
   "execution_count": 16,
   "metadata": {},
   "outputs": [],
   "source": [
    "# Export math and ela data\n",
    "# math_data.to_csv('math_data_joined.csv',index=False)\n",
    "# ela_data.to_csv('ela_data_joined.csv',index=False)"
   ]
  },
  {
   "cell_type": "code",
   "execution_count": 17,
   "metadata": {},
   "outputs": [
    {
     "output_type": "execute_result",
     "data": {
      "text/plain": [
       "         Student ID     FSA_ELA   Fall_Diag  Winter_Diag\n",
       "count  2.130000e+02  213.000000  213.000000   213.000000\n",
       "mean   3.591254e+09    3.173709  515.093897   536.680751\n",
       "std    3.507787e+08    1.078461   41.332415    36.078419\n",
       "min    1.300604e+09    1.000000  372.000000   410.000000\n",
       "25%    3.530192e+09    2.000000  491.000000   517.000000\n",
       "50%    3.555562e+09    3.000000  518.000000   539.000000\n",
       "75%    3.577092e+09    4.000000  543.000000   562.000000\n",
       "max    5.926007e+09    5.000000  612.000000   620.000000"
      ],
      "text/html": "<div>\n<style scoped>\n    .dataframe tbody tr th:only-of-type {\n        vertical-align: middle;\n    }\n\n    .dataframe tbody tr th {\n        vertical-align: top;\n    }\n\n    .dataframe thead th {\n        text-align: right;\n    }\n</style>\n<table border=\"1\" class=\"dataframe\">\n  <thead>\n    <tr style=\"text-align: right;\">\n      <th></th>\n      <th>Student ID</th>\n      <th>FSA_ELA</th>\n      <th>Fall_Diag</th>\n      <th>Winter_Diag</th>\n    </tr>\n  </thead>\n  <tbody>\n    <tr>\n      <th>count</th>\n      <td>2.130000e+02</td>\n      <td>213.000000</td>\n      <td>213.000000</td>\n      <td>213.000000</td>\n    </tr>\n    <tr>\n      <th>mean</th>\n      <td>3.591254e+09</td>\n      <td>3.173709</td>\n      <td>515.093897</td>\n      <td>536.680751</td>\n    </tr>\n    <tr>\n      <th>std</th>\n      <td>3.507787e+08</td>\n      <td>1.078461</td>\n      <td>41.332415</td>\n      <td>36.078419</td>\n    </tr>\n    <tr>\n      <th>min</th>\n      <td>1.300604e+09</td>\n      <td>1.000000</td>\n      <td>372.000000</td>\n      <td>410.000000</td>\n    </tr>\n    <tr>\n      <th>25%</th>\n      <td>3.530192e+09</td>\n      <td>2.000000</td>\n      <td>491.000000</td>\n      <td>517.000000</td>\n    </tr>\n    <tr>\n      <th>50%</th>\n      <td>3.555562e+09</td>\n      <td>3.000000</td>\n      <td>518.000000</td>\n      <td>539.000000</td>\n    </tr>\n    <tr>\n      <th>75%</th>\n      <td>3.577092e+09</td>\n      <td>4.000000</td>\n      <td>543.000000</td>\n      <td>562.000000</td>\n    </tr>\n    <tr>\n      <th>max</th>\n      <td>5.926007e+09</td>\n      <td>5.000000</td>\n      <td>612.000000</td>\n      <td>620.000000</td>\n    </tr>\n  </tbody>\n</table>\n</div>"
     },
     "metadata": {},
     "execution_count": 17
    }
   ],
   "source": [
    "# Descriptive statistics for ELA\n",
    "ela_data.describe()"
   ]
  },
  {
   "cell_type": "code",
   "execution_count": 18,
   "metadata": {},
   "outputs": [
    {
     "output_type": "execute_result",
     "data": {
      "text/plain": [
       "         Student ID    FSA_MATH   Fall_Diag  Winter_Diag\n",
       "count  2.130000e+02  213.000000  213.000000   213.000000\n",
       "mean   3.591254e+09    3.417840  436.305164   450.516432\n",
       "std    3.507787e+08    1.177245   20.392512    19.566191\n",
       "min    1.300604e+09    1.000000  365.000000   380.000000\n",
       "25%    3.530192e+09    3.000000  426.000000   442.000000\n",
       "50%    3.555562e+09    3.000000  438.000000   453.000000\n",
       "75%    3.577092e+09    4.000000  450.000000   462.000000\n",
       "max    5.926007e+09    5.000000  486.000000   496.000000"
      ],
      "text/html": "<div>\n<style scoped>\n    .dataframe tbody tr th:only-of-type {\n        vertical-align: middle;\n    }\n\n    .dataframe tbody tr th {\n        vertical-align: top;\n    }\n\n    .dataframe thead th {\n        text-align: right;\n    }\n</style>\n<table border=\"1\" class=\"dataframe\">\n  <thead>\n    <tr style=\"text-align: right;\">\n      <th></th>\n      <th>Student ID</th>\n      <th>FSA_MATH</th>\n      <th>Fall_Diag</th>\n      <th>Winter_Diag</th>\n    </tr>\n  </thead>\n  <tbody>\n    <tr>\n      <th>count</th>\n      <td>2.130000e+02</td>\n      <td>213.000000</td>\n      <td>213.000000</td>\n      <td>213.000000</td>\n    </tr>\n    <tr>\n      <th>mean</th>\n      <td>3.591254e+09</td>\n      <td>3.417840</td>\n      <td>436.305164</td>\n      <td>450.516432</td>\n    </tr>\n    <tr>\n      <th>std</th>\n      <td>3.507787e+08</td>\n      <td>1.177245</td>\n      <td>20.392512</td>\n      <td>19.566191</td>\n    </tr>\n    <tr>\n      <th>min</th>\n      <td>1.300604e+09</td>\n      <td>1.000000</td>\n      <td>365.000000</td>\n      <td>380.000000</td>\n    </tr>\n    <tr>\n      <th>25%</th>\n      <td>3.530192e+09</td>\n      <td>3.000000</td>\n      <td>426.000000</td>\n      <td>442.000000</td>\n    </tr>\n    <tr>\n      <th>50%</th>\n      <td>3.555562e+09</td>\n      <td>3.000000</td>\n      <td>438.000000</td>\n      <td>453.000000</td>\n    </tr>\n    <tr>\n      <th>75%</th>\n      <td>3.577092e+09</td>\n      <td>4.000000</td>\n      <td>450.000000</td>\n      <td>462.000000</td>\n    </tr>\n    <tr>\n      <th>max</th>\n      <td>5.926007e+09</td>\n      <td>5.000000</td>\n      <td>486.000000</td>\n      <td>496.000000</td>\n    </tr>\n  </tbody>\n</table>\n</div>"
     },
     "metadata": {},
     "execution_count": 18
    }
   ],
   "source": [
    "# Descriptive statistics for MATH\n",
    "math_data.describe()"
   ]
  },
  {
   "cell_type": "code",
   "execution_count": 114,
   "metadata": {},
   "outputs": [],
   "source": [
    "# diag_bins = [0, 416, 467, 518, 569, 620]\n",
    "# group_names = [\"365-416\", \"417-467\", \"468-518\", \"519-569\", \"570-620\"]"
   ]
  },
  {
   "cell_type": "code",
   "execution_count": 19,
   "metadata": {},
   "outputs": [],
   "source": [
    "# Establish bins and group names for ELA.\n",
    "diag_bins = [0, 422, 472, 521, 571, 620]\n",
    "group_names = [1, 2, 3, 4, 5]"
   ]
  },
  {
   "cell_type": "code",
   "execution_count": 23,
   "metadata": {},
   "outputs": [],
   "source": [
    "# Establish bins ELA per students\n",
    "bins_per_student_ela = ela_data.set_index(['Student ID'])['Winter_Diag']"
   ]
  },
  {
   "cell_type": "code",
   "execution_count": 24,
   "metadata": {},
   "outputs": [
    {
     "output_type": "execute_result",
     "data": {
      "text/plain": [
       "Student ID\n",
       "3505181649    564.0\n",
       "3507461649    584.0\n",
       "3508041649    528.0\n",
       "3509881649    556.0\n",
       "3510171549    534.0\n",
       "              ...  \n",
       "3531461508    593.0\n",
       "3571921508    522.0\n",
       "3582191508    554.0\n",
       "3592081508    534.0\n",
       "3535761308    519.0\n",
       "Name: Winter_Diag, Length: 213, dtype: float64"
      ]
     },
     "metadata": {},
     "execution_count": 24
    }
   ],
   "source": [
    "bins_per_student_ela"
   ]
  },
  {
   "cell_type": "code",
   "execution_count": 25,
   "metadata": {},
   "outputs": [
    {
     "output_type": "execute_result",
     "data": {
      "text/plain": [
       "1"
      ]
     },
     "metadata": {},
     "execution_count": 25
    }
   ],
   "source": [
    "bins_per_student_ela.ndim"
   ]
  },
  {
   "cell_type": "code",
   "execution_count": 26,
   "metadata": {},
   "outputs": [
    {
     "output_type": "execute_result",
     "data": {
      "text/plain": [
       "Winter_Diag\n",
       "(0, 422]        3\n",
       "(422, 472]      8\n",
       "(472, 521]     51\n",
       "(521, 571]    120\n",
       "(571, 620]     31\n",
       "Name: Winter_Diag, dtype: int64"
      ]
     },
     "metadata": {},
     "execution_count": 26
    }
   ],
   "source": [
    "bins_per_student_ela.groupby(pd.cut(bins_per_student_ela, diag_bins)).count()"
   ]
  },
  {
   "cell_type": "code",
   "execution_count": 31,
   "metadata": {},
   "outputs": [],
   "source": [
    "bins_winter_ela = pd.cut(bins_per_student_ela, diag_bins, labels=group_names)\n",
    "# bins_winter_ela\n"
   ]
  },
  {
   "cell_type": "code",
   "execution_count": 32,
   "metadata": {},
   "outputs": [
    {
     "output_type": "execute_result",
     "data": {
      "text/plain": [
       "count    213.000000\n",
       "mean     536.680751\n",
       "std       36.078419\n",
       "min      410.000000\n",
       "25%      517.000000\n",
       "50%      539.000000\n",
       "75%      562.000000\n",
       "max      620.000000\n",
       "Name: Winter_Diag, dtype: float64"
      ]
     },
     "metadata": {},
     "execution_count": 32
    }
   ],
   "source": [
    "bins_per_student_ela.describe()"
   ]
  },
  {
   "cell_type": "code",
   "execution_count": 33,
   "metadata": {},
   "outputs": [
    {
     "output_type": "execute_result",
     "data": {
      "text/plain": [
       "           Bins_Winter\n",
       "Student ID            \n",
       "3505181649           4\n",
       "3507461649           5\n",
       "3508041649           4\n",
       "3509881649           4\n",
       "3510171549           4\n",
       "...                ...\n",
       "3531461508           5\n",
       "3571921508           4\n",
       "3582191508           4\n",
       "3592081508           4\n",
       "3535761308           3\n",
       "\n",
       "[213 rows x 1 columns]"
      ],
      "text/html": "<div>\n<style scoped>\n    .dataframe tbody tr th:only-of-type {\n        vertical-align: middle;\n    }\n\n    .dataframe tbody tr th {\n        vertical-align: top;\n    }\n\n    .dataframe thead th {\n        text-align: right;\n    }\n</style>\n<table border=\"1\" class=\"dataframe\">\n  <thead>\n    <tr style=\"text-align: right;\">\n      <th></th>\n      <th>Bins_Winter</th>\n    </tr>\n    <tr>\n      <th>Student ID</th>\n      <th></th>\n    </tr>\n  </thead>\n  <tbody>\n    <tr>\n      <th>3505181649</th>\n      <td>4</td>\n    </tr>\n    <tr>\n      <th>3507461649</th>\n      <td>5</td>\n    </tr>\n    <tr>\n      <th>3508041649</th>\n      <td>4</td>\n    </tr>\n    <tr>\n      <th>3509881649</th>\n      <td>4</td>\n    </tr>\n    <tr>\n      <th>3510171549</th>\n      <td>4</td>\n    </tr>\n    <tr>\n      <th>...</th>\n      <td>...</td>\n    </tr>\n    <tr>\n      <th>3531461508</th>\n      <td>5</td>\n    </tr>\n    <tr>\n      <th>3571921508</th>\n      <td>4</td>\n    </tr>\n    <tr>\n      <th>3582191508</th>\n      <td>4</td>\n    </tr>\n    <tr>\n      <th>3592081508</th>\n      <td>4</td>\n    </tr>\n    <tr>\n      <th>3535761308</th>\n      <td>3</td>\n    </tr>\n  </tbody>\n</table>\n<p>213 rows × 1 columns</p>\n</div>"
     },
     "metadata": {},
     "execution_count": 33
    }
   ],
   "source": [
    "#  Converting bins ELA in DataFrame\n",
    "bins_winter_ela = pd.DataFrame(bins_winter_ela)\n",
    "bins_winter_ela = bins_winter_ela.rename(columns={'Winter_Diag': 'Bins_Winter'})\n",
    "bins_winter_ela\n"
   ]
  },
  {
   "cell_type": "code",
   "execution_count": 34,
   "metadata": {},
   "outputs": [],
   "source": [
    "# Merging ELA data with ELA bins\n",
    "bins_ela = ela_data.merge(bins_winter_ela,on='Student ID')\n",
    "# bins_ela = bins_ela.drop(['Bins_Winter'],axis=1)"
   ]
  },
  {
   "cell_type": "code",
   "execution_count": 35,
   "metadata": {},
   "outputs": [
    {
     "output_type": "execute_result",
     "data": {
      "text/plain": [
       "     Student ID Gender         Ethnicity  FSA_ELA Retained Attendance  \\\n",
       "55   3576151649      M          Hispanic        2       NO         NO   \n",
       "153  3570291408      M  African American        3      yes        yes   \n",
       "82   3515081508      M         Caucasian        3      YES         NO   \n",
       "49   3569341204      F             Asian        1      YES         NO   \n",
       "64   3581511613      M         Caucasian        4       NO         NO   \n",
       "56   3576991649      F          Hispanic        3       NO         NO   \n",
       "86   3527541608      F         Caucasian        5       NO         NO   \n",
       "152  3538141535      M      Multi-Racial        4       no        yes   \n",
       "119  3576991160      F          Hispanic        1      YES         NO   \n",
       "145  3512991408      M         Caucasian        3       no         no   \n",
       "\n",
       "    Behavior  Fall_Diag  Winter_Diag Bins_Winter  \n",
       "55        NO      491.0        526.0           4  \n",
       "153       no      491.0        543.0           4  \n",
       "82        NO      413.0        473.0           3  \n",
       "49        NO      372.0        450.0           2  \n",
       "64        NO      528.0        549.0           4  \n",
       "56        NO      536.0        527.0           4  \n",
       "86        NO      542.0        547.0           4  \n",
       "152       no      552.0        556.0           4  \n",
       "119       NO      473.0        493.0           3  \n",
       "145       no      546.0        544.0           4  "
      ],
      "text/html": "<div>\n<style scoped>\n    .dataframe tbody tr th:only-of-type {\n        vertical-align: middle;\n    }\n\n    .dataframe tbody tr th {\n        vertical-align: top;\n    }\n\n    .dataframe thead th {\n        text-align: right;\n    }\n</style>\n<table border=\"1\" class=\"dataframe\">\n  <thead>\n    <tr style=\"text-align: right;\">\n      <th></th>\n      <th>Student ID</th>\n      <th>Gender</th>\n      <th>Ethnicity</th>\n      <th>FSA_ELA</th>\n      <th>Retained</th>\n      <th>Attendance</th>\n      <th>Behavior</th>\n      <th>Fall_Diag</th>\n      <th>Winter_Diag</th>\n      <th>Bins_Winter</th>\n    </tr>\n  </thead>\n  <tbody>\n    <tr>\n      <th>55</th>\n      <td>3576151649</td>\n      <td>M</td>\n      <td>Hispanic</td>\n      <td>2</td>\n      <td>NO</td>\n      <td>NO</td>\n      <td>NO</td>\n      <td>491.0</td>\n      <td>526.0</td>\n      <td>4</td>\n    </tr>\n    <tr>\n      <th>153</th>\n      <td>3570291408</td>\n      <td>M</td>\n      <td>African American</td>\n      <td>3</td>\n      <td>yes</td>\n      <td>yes</td>\n      <td>no</td>\n      <td>491.0</td>\n      <td>543.0</td>\n      <td>4</td>\n    </tr>\n    <tr>\n      <th>82</th>\n      <td>3515081508</td>\n      <td>M</td>\n      <td>Caucasian</td>\n      <td>3</td>\n      <td>YES</td>\n      <td>NO</td>\n      <td>NO</td>\n      <td>413.0</td>\n      <td>473.0</td>\n      <td>3</td>\n    </tr>\n    <tr>\n      <th>49</th>\n      <td>3569341204</td>\n      <td>F</td>\n      <td>Asian</td>\n      <td>1</td>\n      <td>YES</td>\n      <td>NO</td>\n      <td>NO</td>\n      <td>372.0</td>\n      <td>450.0</td>\n      <td>2</td>\n    </tr>\n    <tr>\n      <th>64</th>\n      <td>3581511613</td>\n      <td>M</td>\n      <td>Caucasian</td>\n      <td>4</td>\n      <td>NO</td>\n      <td>NO</td>\n      <td>NO</td>\n      <td>528.0</td>\n      <td>549.0</td>\n      <td>4</td>\n    </tr>\n    <tr>\n      <th>56</th>\n      <td>3576991649</td>\n      <td>F</td>\n      <td>Hispanic</td>\n      <td>3</td>\n      <td>NO</td>\n      <td>NO</td>\n      <td>NO</td>\n      <td>536.0</td>\n      <td>527.0</td>\n      <td>4</td>\n    </tr>\n    <tr>\n      <th>86</th>\n      <td>3527541608</td>\n      <td>F</td>\n      <td>Caucasian</td>\n      <td>5</td>\n      <td>NO</td>\n      <td>NO</td>\n      <td>NO</td>\n      <td>542.0</td>\n      <td>547.0</td>\n      <td>4</td>\n    </tr>\n    <tr>\n      <th>152</th>\n      <td>3538141535</td>\n      <td>M</td>\n      <td>Multi-Racial</td>\n      <td>4</td>\n      <td>no</td>\n      <td>yes</td>\n      <td>no</td>\n      <td>552.0</td>\n      <td>556.0</td>\n      <td>4</td>\n    </tr>\n    <tr>\n      <th>119</th>\n      <td>3576991160</td>\n      <td>F</td>\n      <td>Hispanic</td>\n      <td>1</td>\n      <td>YES</td>\n      <td>NO</td>\n      <td>NO</td>\n      <td>473.0</td>\n      <td>493.0</td>\n      <td>3</td>\n    </tr>\n    <tr>\n      <th>145</th>\n      <td>3512991408</td>\n      <td>M</td>\n      <td>Caucasian</td>\n      <td>3</td>\n      <td>no</td>\n      <td>no</td>\n      <td>no</td>\n      <td>546.0</td>\n      <td>544.0</td>\n      <td>4</td>\n    </tr>\n  </tbody>\n</table>\n</div>"
     },
     "metadata": {},
     "execution_count": 35
    }
   ],
   "source": [
    "bins_ela.sample(10)"
   ]
  },
  {
   "cell_type": "code",
   "execution_count": 42,
   "metadata": {},
   "outputs": [],
   "source": [
    "# Establish bins and group names.\n",
    "# diag_bins = [0, 422, 472, 521, 571, 620]\n",
    "# group_names = [1, 2, 3, 4, 5]\n",
    "# ela_data[\"Bins_Winter\"] = pd.cut(bins_per_student_ela, diag_bins, labels=group_names)"
   ]
  },
  {
   "cell_type": "code",
   "execution_count": 43,
   "metadata": {},
   "outputs": [],
   "source": [
    "# ela_data.sample(15)"
   ]
  },
  {
   "cell_type": "code",
   "execution_count": 53,
   "metadata": {},
   "outputs": [],
   "source": [
    "# Establish bins and group names for MATH.\n",
    "diag_binsMATH = [0, 392, 418, 444, 470, 500]\n",
    "group_namesMATH = [1, 2, 3, 4, 5]"
   ]
  },
  {
   "cell_type": "code",
   "execution_count": 54,
   "metadata": {},
   "outputs": [],
   "source": [
    "# Establish bins MATH per students\n",
    "bins_per_student_math = math_data.set_index(['Student ID'])['Winter_Diag']"
   ]
  },
  {
   "cell_type": "code",
   "execution_count": 55,
   "metadata": {},
   "outputs": [
    {
     "output_type": "execute_result",
     "data": {
      "text/plain": [
       "Student ID\n",
       "3505181649    446\n",
       "3507461649    460\n",
       "3508041649    467\n",
       "3509881649    496\n",
       "3510171549    443\n",
       "             ... \n",
       "3531461508    460\n",
       "3571921508    442\n",
       "3582191508    463\n",
       "3592081508    442\n",
       "3535761308    449\n",
       "Name: Winter_Diag, Length: 213, dtype: int64"
      ]
     },
     "metadata": {},
     "execution_count": 55
    }
   ],
   "source": [
    "bins_per_student_math"
   ]
  },
  {
   "cell_type": "code",
   "execution_count": 56,
   "metadata": {},
   "outputs": [
    {
     "output_type": "execute_result",
     "data": {
      "text/plain": [
       "Winter_Diag\n",
       "(0, 392]        3\n",
       "(392, 418]     11\n",
       "(418, 444]     53\n",
       "(444, 470]    124\n",
       "(470, 500]     22\n",
       "Name: Winter_Diag, dtype: int64"
      ]
     },
     "metadata": {},
     "execution_count": 56
    }
   ],
   "source": [
    "bins_per_student_math.groupby(pd.cut(bins_per_student_math, diag_binsMATH)).count()"
   ]
  },
  {
   "cell_type": "code",
   "execution_count": 57,
   "metadata": {},
   "outputs": [
    {
     "output_type": "execute_result",
     "data": {
      "text/plain": [
       "count    213.000000\n",
       "mean     450.516432\n",
       "std       19.566191\n",
       "min      380.000000\n",
       "25%      442.000000\n",
       "50%      453.000000\n",
       "75%      462.000000\n",
       "max      496.000000\n",
       "Name: Winter_Diag, dtype: float64"
      ]
     },
     "metadata": {},
     "execution_count": 57
    }
   ],
   "source": [
    "bins_per_student_math.describe()"
   ]
  },
  {
   "cell_type": "code",
   "execution_count": 58,
   "metadata": {},
   "outputs": [],
   "source": [
    "bins_winter_math = pd.cut(bins_per_student_math, diag_binsMATH, labels=group_namesMATH)"
   ]
  },
  {
   "cell_type": "code",
   "execution_count": 59,
   "metadata": {},
   "outputs": [
    {
     "output_type": "execute_result",
     "data": {
      "text/plain": [
       "           Bins_Winter\n",
       "Student ID            \n",
       "3505181649           4\n",
       "3507461649           4\n",
       "3508041649           4\n",
       "3509881649           5\n",
       "3510171549           3\n",
       "...                ...\n",
       "3531461508           4\n",
       "3571921508           3\n",
       "3582191508           4\n",
       "3592081508           3\n",
       "3535761308           4\n",
       "\n",
       "[213 rows x 1 columns]"
      ],
      "text/html": "<div>\n<style scoped>\n    .dataframe tbody tr th:only-of-type {\n        vertical-align: middle;\n    }\n\n    .dataframe tbody tr th {\n        vertical-align: top;\n    }\n\n    .dataframe thead th {\n        text-align: right;\n    }\n</style>\n<table border=\"1\" class=\"dataframe\">\n  <thead>\n    <tr style=\"text-align: right;\">\n      <th></th>\n      <th>Bins_Winter</th>\n    </tr>\n    <tr>\n      <th>Student ID</th>\n      <th></th>\n    </tr>\n  </thead>\n  <tbody>\n    <tr>\n      <th>3505181649</th>\n      <td>4</td>\n    </tr>\n    <tr>\n      <th>3507461649</th>\n      <td>4</td>\n    </tr>\n    <tr>\n      <th>3508041649</th>\n      <td>4</td>\n    </tr>\n    <tr>\n      <th>3509881649</th>\n      <td>5</td>\n    </tr>\n    <tr>\n      <th>3510171549</th>\n      <td>3</td>\n    </tr>\n    <tr>\n      <th>...</th>\n      <td>...</td>\n    </tr>\n    <tr>\n      <th>3531461508</th>\n      <td>4</td>\n    </tr>\n    <tr>\n      <th>3571921508</th>\n      <td>3</td>\n    </tr>\n    <tr>\n      <th>3582191508</th>\n      <td>4</td>\n    </tr>\n    <tr>\n      <th>3592081508</th>\n      <td>3</td>\n    </tr>\n    <tr>\n      <th>3535761308</th>\n      <td>4</td>\n    </tr>\n  </tbody>\n</table>\n<p>213 rows × 1 columns</p>\n</div>"
     },
     "metadata": {},
     "execution_count": 59
    }
   ],
   "source": [
    "#  Converting bins MATH in DataFrame\n",
    "bins_winter_math = pd.DataFrame(bins_winter_math)\n",
    "bins_winter_math = bins_winter_math.rename(columns={'Winter_Diag': 'Bins_Winter'})\n",
    "bins_winter_math"
   ]
  },
  {
   "cell_type": "code",
   "execution_count": 60,
   "metadata": {},
   "outputs": [],
   "source": [
    "# Merging MATH data with MATH bins\n",
    "bins_math = math_data.merge(bins_winter_math,on='Student ID')"
   ]
  },
  {
   "cell_type": "code",
   "execution_count": 61,
   "metadata": {},
   "outputs": [
    {
     "output_type": "execute_result",
     "data": {
      "text/plain": [
       "     Student ID Gender         Ethnicity  FSA_MATH Retained Attendance  \\\n",
       "28   3532761649      F         Caucasian         5       NO         NO   \n",
       "154  3577091588      F         Caucasian         5       no        yes   \n",
       "12   3513031423      M         Caucasian         3      YES         NO   \n",
       "185  3572921508      M         Caucasian         5       no         no   \n",
       "19   3517711849      M         Caucasian         4       NO         NO   \n",
       "146  4804266071      F          Hispanic         4       no        yes   \n",
       "114  3569911060      M  African American         4       NO        YES   \n",
       "27   3530741649      F         Caucasian         5       NO         NO   \n",
       "167  3554491536      F         Caucasian         4       no         no   \n",
       "181  3560431408      F         Caucasian         5      yes         no   \n",
       "\n",
       "    Behavior  Fall_Diag  Winter_Diag Bins_Winter  \n",
       "28        NO        463          465           4  \n",
       "154       no        450          461           4  \n",
       "12        NO        448          446           4  \n",
       "185       no        478          475           5  \n",
       "19        NO        439          464           4  \n",
       "146       no        449          452           4  \n",
       "114       NO        443          478           5  \n",
       "27        NO        450          470           4  \n",
       "167       no        447          437           3  \n",
       "181       no        437          459           4  "
      ],
      "text/html": "<div>\n<style scoped>\n    .dataframe tbody tr th:only-of-type {\n        vertical-align: middle;\n    }\n\n    .dataframe tbody tr th {\n        vertical-align: top;\n    }\n\n    .dataframe thead th {\n        text-align: right;\n    }\n</style>\n<table border=\"1\" class=\"dataframe\">\n  <thead>\n    <tr style=\"text-align: right;\">\n      <th></th>\n      <th>Student ID</th>\n      <th>Gender</th>\n      <th>Ethnicity</th>\n      <th>FSA_MATH</th>\n      <th>Retained</th>\n      <th>Attendance</th>\n      <th>Behavior</th>\n      <th>Fall_Diag</th>\n      <th>Winter_Diag</th>\n      <th>Bins_Winter</th>\n    </tr>\n  </thead>\n  <tbody>\n    <tr>\n      <th>28</th>\n      <td>3532761649</td>\n      <td>F</td>\n      <td>Caucasian</td>\n      <td>5</td>\n      <td>NO</td>\n      <td>NO</td>\n      <td>NO</td>\n      <td>463</td>\n      <td>465</td>\n      <td>4</td>\n    </tr>\n    <tr>\n      <th>154</th>\n      <td>3577091588</td>\n      <td>F</td>\n      <td>Caucasian</td>\n      <td>5</td>\n      <td>no</td>\n      <td>yes</td>\n      <td>no</td>\n      <td>450</td>\n      <td>461</td>\n      <td>4</td>\n    </tr>\n    <tr>\n      <th>12</th>\n      <td>3513031423</td>\n      <td>M</td>\n      <td>Caucasian</td>\n      <td>3</td>\n      <td>YES</td>\n      <td>NO</td>\n      <td>NO</td>\n      <td>448</td>\n      <td>446</td>\n      <td>4</td>\n    </tr>\n    <tr>\n      <th>185</th>\n      <td>3572921508</td>\n      <td>M</td>\n      <td>Caucasian</td>\n      <td>5</td>\n      <td>no</td>\n      <td>no</td>\n      <td>no</td>\n      <td>478</td>\n      <td>475</td>\n      <td>5</td>\n    </tr>\n    <tr>\n      <th>19</th>\n      <td>3517711849</td>\n      <td>M</td>\n      <td>Caucasian</td>\n      <td>4</td>\n      <td>NO</td>\n      <td>NO</td>\n      <td>NO</td>\n      <td>439</td>\n      <td>464</td>\n      <td>4</td>\n    </tr>\n    <tr>\n      <th>146</th>\n      <td>4804266071</td>\n      <td>F</td>\n      <td>Hispanic</td>\n      <td>4</td>\n      <td>no</td>\n      <td>yes</td>\n      <td>no</td>\n      <td>449</td>\n      <td>452</td>\n      <td>4</td>\n    </tr>\n    <tr>\n      <th>114</th>\n      <td>3569911060</td>\n      <td>M</td>\n      <td>African American</td>\n      <td>4</td>\n      <td>NO</td>\n      <td>YES</td>\n      <td>NO</td>\n      <td>443</td>\n      <td>478</td>\n      <td>5</td>\n    </tr>\n    <tr>\n      <th>27</th>\n      <td>3530741649</td>\n      <td>F</td>\n      <td>Caucasian</td>\n      <td>5</td>\n      <td>NO</td>\n      <td>NO</td>\n      <td>NO</td>\n      <td>450</td>\n      <td>470</td>\n      <td>4</td>\n    </tr>\n    <tr>\n      <th>167</th>\n      <td>3554491536</td>\n      <td>F</td>\n      <td>Caucasian</td>\n      <td>4</td>\n      <td>no</td>\n      <td>no</td>\n      <td>no</td>\n      <td>447</td>\n      <td>437</td>\n      <td>3</td>\n    </tr>\n    <tr>\n      <th>181</th>\n      <td>3560431408</td>\n      <td>F</td>\n      <td>Caucasian</td>\n      <td>5</td>\n      <td>yes</td>\n      <td>no</td>\n      <td>no</td>\n      <td>437</td>\n      <td>459</td>\n      <td>4</td>\n    </tr>\n  </tbody>\n</table>\n</div>"
     },
     "metadata": {},
     "execution_count": 61
    }
   ],
   "source": [
    "bins_math.sample(10)"
   ]
  },
  {
   "cell_type": "code",
   "execution_count": 62,
   "metadata": {},
   "outputs": [],
   "source": [
    "# # Export bins_ela\n",
    "# bins_ela.to_csv('bins_ela.csv',index=False)\n",
    "# # Export bins_math\n",
    "# bins_math.to_csv('bins_math.csv',index=False)"
   ]
  },
  {
   "cell_type": "code",
   "execution_count": 63,
   "metadata": {},
   "outputs": [
    {
     "output_type": "execute_result",
     "data": {
      "text/plain": [
       "         Student ID    FSA_MATH   Fall_Diag  Winter_Diag\n",
       "count  2.130000e+02  213.000000  213.000000   213.000000\n",
       "mean   3.591254e+09    3.417840  436.305164   450.516432\n",
       "std    3.507787e+08    1.177245   20.392512    19.566191\n",
       "min    1.300604e+09    1.000000  365.000000   380.000000\n",
       "25%    3.530192e+09    3.000000  426.000000   442.000000\n",
       "50%    3.555562e+09    3.000000  438.000000   453.000000\n",
       "75%    3.577092e+09    4.000000  450.000000   462.000000\n",
       "max    5.926007e+09    5.000000  486.000000   496.000000"
      ],
      "text/html": "<div>\n<style scoped>\n    .dataframe tbody tr th:only-of-type {\n        vertical-align: middle;\n    }\n\n    .dataframe tbody tr th {\n        vertical-align: top;\n    }\n\n    .dataframe thead th {\n        text-align: right;\n    }\n</style>\n<table border=\"1\" class=\"dataframe\">\n  <thead>\n    <tr style=\"text-align: right;\">\n      <th></th>\n      <th>Student ID</th>\n      <th>FSA_MATH</th>\n      <th>Fall_Diag</th>\n      <th>Winter_Diag</th>\n    </tr>\n  </thead>\n  <tbody>\n    <tr>\n      <th>count</th>\n      <td>2.130000e+02</td>\n      <td>213.000000</td>\n      <td>213.000000</td>\n      <td>213.000000</td>\n    </tr>\n    <tr>\n      <th>mean</th>\n      <td>3.591254e+09</td>\n      <td>3.417840</td>\n      <td>436.305164</td>\n      <td>450.516432</td>\n    </tr>\n    <tr>\n      <th>std</th>\n      <td>3.507787e+08</td>\n      <td>1.177245</td>\n      <td>20.392512</td>\n      <td>19.566191</td>\n    </tr>\n    <tr>\n      <th>min</th>\n      <td>1.300604e+09</td>\n      <td>1.000000</td>\n      <td>365.000000</td>\n      <td>380.000000</td>\n    </tr>\n    <tr>\n      <th>25%</th>\n      <td>3.530192e+09</td>\n      <td>3.000000</td>\n      <td>426.000000</td>\n      <td>442.000000</td>\n    </tr>\n    <tr>\n      <th>50%</th>\n      <td>3.555562e+09</td>\n      <td>3.000000</td>\n      <td>438.000000</td>\n      <td>453.000000</td>\n    </tr>\n    <tr>\n      <th>75%</th>\n      <td>3.577092e+09</td>\n      <td>4.000000</td>\n      <td>450.000000</td>\n      <td>462.000000</td>\n    </tr>\n    <tr>\n      <th>max</th>\n      <td>5.926007e+09</td>\n      <td>5.000000</td>\n      <td>486.000000</td>\n      <td>496.000000</td>\n    </tr>\n  </tbody>\n</table>\n</div>"
     },
     "metadata": {},
     "execution_count": 63
    }
   ],
   "source": [
    "bins_math.describe()"
   ]
  },
  {
   "cell_type": "code",
   "execution_count": 65,
   "metadata": {},
   "outputs": [],
   "source": [
    "bins_ela_avrg = bins_ela.groupby([\"Bins_Winter\"]).mean()[\"Winter_Diag\"]"
   ]
  },
  {
   "cell_type": "code",
   "execution_count": 66,
   "metadata": {},
   "outputs": [
    {
     "output_type": "execute_result",
     "data": {
      "text/plain": [
       "Bins_Winter\n",
       "1    415.000000\n",
       "2    461.375000\n",
       "3    503.549020\n",
       "4    545.625000\n",
       "5    587.774194\n",
       "Name: Winter_Diag, dtype: float64"
      ]
     },
     "metadata": {},
     "execution_count": 66
    }
   ],
   "source": [
    "bins_ela_avrg"
   ]
  },
  {
   "cell_type": "code",
   "execution_count": null,
   "metadata": {},
   "outputs": [],
   "source": []
  }
 ]
}