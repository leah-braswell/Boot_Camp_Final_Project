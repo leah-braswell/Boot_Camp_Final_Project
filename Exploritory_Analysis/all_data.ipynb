{
 "metadata": {
  "language_info": {
   "codemirror_mode": {
    "name": "ipython",
    "version": 3
   },
   "file_extension": ".py",
   "mimetype": "text/x-python",
   "name": "python",
   "nbconvert_exporter": "python",
   "pygments_lexer": "ipython3",
   "version": "3.7.7-final"
  },
  "orig_nbformat": 2,
  "kernelspec": {
   "name": "mlenv",
   "display_name": "mlenv",
   "language": "python"
  }
 },
 "nbformat": 4,
 "nbformat_minor": 2,
 "cells": [
  {
   "cell_type": "code",
   "execution_count": 1,
   "metadata": {},
   "outputs": [],
   "source": [
    "import pandas as pd\n",
    "import numpy as np "
   ]
  },
  {
   "cell_type": "code",
   "execution_count": 2,
   "metadata": {},
   "outputs": [],
   "source": [
    "# Load files\n",
    "Demographics_file = \"Demographics.csv\"\n",
    "Achievement_file = \"Achievement_Levels.csv\"\n",
    "EWSdata_file = \"EWSdata.csv\"\n",
    "ELAdata_file = \"ELA_DATA.csv\"\n",
    "MATHdata_file = \"MATH_DATA.csv\"\n",
    "\n",
    "Demographics_df = pd.read_csv(Demographics_file)\n",
    "Achievement_df = pd.read_csv(Achievement_file)\n",
    "EWSdata_df = pd.read_csv(EWSdata_file)\n",
    "ELAdata_df = pd.read_csv(ELAdata_file)\n",
    "MATHdata_df = pd.read_csv(MATHdata_file)"
   ]
  },
  {
   "cell_type": "code",
   "execution_count": 3,
   "metadata": {},
   "outputs": [
    {
     "output_type": "execute_result",
     "data": {
      "text/plain": [
       "     Student ID Gender         Ethnicity\n",
       "785  3574641560      M  African American"
      ],
      "text/html": "<div>\n<style scoped>\n    .dataframe tbody tr th:only-of-type {\n        vertical-align: middle;\n    }\n\n    .dataframe tbody tr th {\n        vertical-align: top;\n    }\n\n    .dataframe thead th {\n        text-align: right;\n    }\n</style>\n<table border=\"1\" class=\"dataframe\">\n  <thead>\n    <tr style=\"text-align: right;\">\n      <th></th>\n      <th>Student ID</th>\n      <th>Gender</th>\n      <th>Ethnicity</th>\n    </tr>\n  </thead>\n  <tbody>\n    <tr>\n      <th>785</th>\n      <td>3574641560</td>\n      <td>M</td>\n      <td>African American</td>\n    </tr>\n  </tbody>\n</table>\n</div>"
     },
     "metadata": {},
     "execution_count": 3
    }
   ],
   "source": [
    "# Sample of Demographics.csv data\n",
    "Demographics_df.sample()"
   ]
  },
  {
   "cell_type": "code",
   "execution_count": 4,
   "metadata": {},
   "outputs": [
    {
     "output_type": "execute_result",
     "data": {
      "text/plain": [
       "     Student ID  FSA_ELA  FSA_MATH\n",
       "106  3572921609        3         3"
      ],
      "text/html": "<div>\n<style scoped>\n    .dataframe tbody tr th:only-of-type {\n        vertical-align: middle;\n    }\n\n    .dataframe tbody tr th {\n        vertical-align: top;\n    }\n\n    .dataframe thead th {\n        text-align: right;\n    }\n</style>\n<table border=\"1\" class=\"dataframe\">\n  <thead>\n    <tr style=\"text-align: right;\">\n      <th></th>\n      <th>Student ID</th>\n      <th>FSA_ELA</th>\n      <th>FSA_MATH</th>\n    </tr>\n  </thead>\n  <tbody>\n    <tr>\n      <th>106</th>\n      <td>3572921609</td>\n      <td>3</td>\n      <td>3</td>\n    </tr>\n  </tbody>\n</table>\n</div>"
     },
     "metadata": {},
     "execution_count": 4
    }
   ],
   "source": [
    "# Sample of Achivement_Levels.csv data\n",
    "Achievement_df.sample()"
   ]
  },
  {
   "cell_type": "code",
   "execution_count": 5,
   "metadata": {},
   "outputs": [
    {
     "output_type": "execute_result",
     "data": {
      "text/plain": [
       "     Student ID Retained Attendance Behavior\n",
       "345  3574221608       NO         NO       NO"
      ],
      "text/html": "<div>\n<style scoped>\n    .dataframe tbody tr th:only-of-type {\n        vertical-align: middle;\n    }\n\n    .dataframe tbody tr th {\n        vertical-align: top;\n    }\n\n    .dataframe thead th {\n        text-align: right;\n    }\n</style>\n<table border=\"1\" class=\"dataframe\">\n  <thead>\n    <tr style=\"text-align: right;\">\n      <th></th>\n      <th>Student ID</th>\n      <th>Retained</th>\n      <th>Attendance</th>\n      <th>Behavior</th>\n    </tr>\n  </thead>\n  <tbody>\n    <tr>\n      <th>345</th>\n      <td>3574221608</td>\n      <td>NO</td>\n      <td>NO</td>\n      <td>NO</td>\n    </tr>\n  </tbody>\n</table>\n</div>"
     },
     "metadata": {},
     "execution_count": 5
    }
   ],
   "source": [
    "# Sample of EWSdata.csv data\n",
    "EWSdata_df.sample()"
   ]
  },
  {
   "cell_type": "code",
   "execution_count": 6,
   "metadata": {},
   "outputs": [
    {
     "output_type": "execute_result",
     "data": {
      "text/plain": [
       "     Student ID  Fall_Diag  Winter_Diag\n",
       "754         NaN        NaN          NaN"
      ],
      "text/html": "<div>\n<style scoped>\n    .dataframe tbody tr th:only-of-type {\n        vertical-align: middle;\n    }\n\n    .dataframe tbody tr th {\n        vertical-align: top;\n    }\n\n    .dataframe thead th {\n        text-align: right;\n    }\n</style>\n<table border=\"1\" class=\"dataframe\">\n  <thead>\n    <tr style=\"text-align: right;\">\n      <th></th>\n      <th>Student ID</th>\n      <th>Fall_Diag</th>\n      <th>Winter_Diag</th>\n    </tr>\n  </thead>\n  <tbody>\n    <tr>\n      <th>754</th>\n      <td>NaN</td>\n      <td>NaN</td>\n      <td>NaN</td>\n    </tr>\n  </tbody>\n</table>\n</div>"
     },
     "metadata": {},
     "execution_count": 6
    }
   ],
   "source": [
    "# Sample of ELAdta.csv data\n",
    "ELAdata_df.sample()"
   ]
  },
  {
   "cell_type": "code",
   "execution_count": 7,
   "metadata": {},
   "outputs": [
    {
     "output_type": "execute_result",
     "data": {
      "text/plain": [
       "     Student ID  Fall_Diag  Winter_Diag\n",
       "121  3578191908        339          373"
      ],
      "text/html": "<div>\n<style scoped>\n    .dataframe tbody tr th:only-of-type {\n        vertical-align: middle;\n    }\n\n    .dataframe tbody tr th {\n        vertical-align: top;\n    }\n\n    .dataframe thead th {\n        text-align: right;\n    }\n</style>\n<table border=\"1\" class=\"dataframe\">\n  <thead>\n    <tr style=\"text-align: right;\">\n      <th></th>\n      <th>Student ID</th>\n      <th>Fall_Diag</th>\n      <th>Winter_Diag</th>\n    </tr>\n  </thead>\n  <tbody>\n    <tr>\n      <th>121</th>\n      <td>3578191908</td>\n      <td>339</td>\n      <td>373</td>\n    </tr>\n  </tbody>\n</table>\n</div>"
     },
     "metadata": {},
     "execution_count": 7
    }
   ],
   "source": [
    "# Sample of MATHdata.csv data\n",
    "MATHdata_df.sample()"
   ]
  },
  {
   "cell_type": "code",
   "execution_count": 8,
   "metadata": {},
   "outputs": [],
   "source": [
    "# Merging all files together on 'Student ID' column\n",
    "all_data = Demographics_df.merge(Achievement_df,on='Student ID').merge(EWSdata_df,on='Student ID').merge(ELAdata_df,on='Student ID').merge(MATHdata_df,on='Student ID')"
   ]
  },
  {
   "cell_type": "code",
   "execution_count": 9,
   "metadata": {},
   "outputs": [
    {
     "output_type": "execute_result",
     "data": {
      "text/plain": [
       "   Student ID Gender  Ethnicity  FSA_ELA  FSA_MATH Retained Attendance  \\\n",
       "7  3510291649      M  Caucasian        4         4       NO         NO   \n",
       "\n",
       "  Behavior  Fall_Diag_x  Winter_Diag_x  Fall_Diag_y  Winter_Diag_y  \n",
       "7       NO        533.0          574.0          456            458  "
      ],
      "text/html": "<div>\n<style scoped>\n    .dataframe tbody tr th:only-of-type {\n        vertical-align: middle;\n    }\n\n    .dataframe tbody tr th {\n        vertical-align: top;\n    }\n\n    .dataframe thead th {\n        text-align: right;\n    }\n</style>\n<table border=\"1\" class=\"dataframe\">\n  <thead>\n    <tr style=\"text-align: right;\">\n      <th></th>\n      <th>Student ID</th>\n      <th>Gender</th>\n      <th>Ethnicity</th>\n      <th>FSA_ELA</th>\n      <th>FSA_MATH</th>\n      <th>Retained</th>\n      <th>Attendance</th>\n      <th>Behavior</th>\n      <th>Fall_Diag_x</th>\n      <th>Winter_Diag_x</th>\n      <th>Fall_Diag_y</th>\n      <th>Winter_Diag_y</th>\n    </tr>\n  </thead>\n  <tbody>\n    <tr>\n      <th>7</th>\n      <td>3510291649</td>\n      <td>M</td>\n      <td>Caucasian</td>\n      <td>4</td>\n      <td>4</td>\n      <td>NO</td>\n      <td>NO</td>\n      <td>NO</td>\n      <td>533.0</td>\n      <td>574.0</td>\n      <td>456</td>\n      <td>458</td>\n    </tr>\n  </tbody>\n</table>\n</div>"
     },
     "metadata": {},
     "execution_count": 9
    }
   ],
   "source": [
    "all_data.sample()"
   ]
  },
  {
   "cell_type": "code",
   "execution_count": 10,
   "metadata": {},
   "outputs": [
    {
     "output_type": "execute_result",
     "data": {
      "text/plain": [
       "    Student ID Gender  Ethnicity  FSA_ELA Retained Attendance Behavior  \\\n",
       "44  3560411613      F  Caucasian        2       NO         NO       NO   \n",
       "\n",
       "    Fall_Diag  Winter_Diag  \n",
       "44      449.0        497.0  "
      ],
      "text/html": "<div>\n<style scoped>\n    .dataframe tbody tr th:only-of-type {\n        vertical-align: middle;\n    }\n\n    .dataframe tbody tr th {\n        vertical-align: top;\n    }\n\n    .dataframe thead th {\n        text-align: right;\n    }\n</style>\n<table border=\"1\" class=\"dataframe\">\n  <thead>\n    <tr style=\"text-align: right;\">\n      <th></th>\n      <th>Student ID</th>\n      <th>Gender</th>\n      <th>Ethnicity</th>\n      <th>FSA_ELA</th>\n      <th>Retained</th>\n      <th>Attendance</th>\n      <th>Behavior</th>\n      <th>Fall_Diag</th>\n      <th>Winter_Diag</th>\n    </tr>\n  </thead>\n  <tbody>\n    <tr>\n      <th>44</th>\n      <td>3560411613</td>\n      <td>F</td>\n      <td>Caucasian</td>\n      <td>2</td>\n      <td>NO</td>\n      <td>NO</td>\n      <td>NO</td>\n      <td>449.0</td>\n      <td>497.0</td>\n    </tr>\n  </tbody>\n</table>\n</div>"
     },
     "metadata": {},
     "execution_count": 10
    }
   ],
   "source": [
    "# Mergin data for ELA\n",
    "ela_data = Demographics_df.merge(Achievement_df,on='Student ID').merge(EWSdata_df,on='Student ID').merge(ELAdata_df,on='Student ID')\n",
    "ela_data = ela_data.drop(['FSA_MATH'],axis=1)\n",
    "ela_data.sample()"
   ]
  },
  {
   "cell_type": "code",
   "execution_count": 11,
   "metadata": {},
   "outputs": [
    {
     "output_type": "execute_result",
     "data": {
      "text/plain": [
       "     Student ID Gender Ethnicity  FSA_MATH Retained Attendance Behavior  \\\n",
       "183  3556371235      F  Hispanic         4       no         no       no   \n",
       "\n",
       "     Fall_Diag  Winter_Diag  \n",
       "183        452          446  "
      ],
      "text/html": "<div>\n<style scoped>\n    .dataframe tbody tr th:only-of-type {\n        vertical-align: middle;\n    }\n\n    .dataframe tbody tr th {\n        vertical-align: top;\n    }\n\n    .dataframe thead th {\n        text-align: right;\n    }\n</style>\n<table border=\"1\" class=\"dataframe\">\n  <thead>\n    <tr style=\"text-align: right;\">\n      <th></th>\n      <th>Student ID</th>\n      <th>Gender</th>\n      <th>Ethnicity</th>\n      <th>FSA_MATH</th>\n      <th>Retained</th>\n      <th>Attendance</th>\n      <th>Behavior</th>\n      <th>Fall_Diag</th>\n      <th>Winter_Diag</th>\n    </tr>\n  </thead>\n  <tbody>\n    <tr>\n      <th>183</th>\n      <td>3556371235</td>\n      <td>F</td>\n      <td>Hispanic</td>\n      <td>4</td>\n      <td>no</td>\n      <td>no</td>\n      <td>no</td>\n      <td>452</td>\n      <td>446</td>\n    </tr>\n  </tbody>\n</table>\n</div>"
     },
     "metadata": {},
     "execution_count": 11
    }
   ],
   "source": [
    "# Mergin data for MATH\n",
    "math_data = Demographics_df.merge(Achievement_df,on='Student ID').merge(EWSdata_df,on='Student ID').merge(MATHdata_df,on='Student ID')\n",
    "math_data = math_data.drop(['FSA_ELA'],axis=1)\n",
    "math_data.sample()"
   ]
  },
  {
   "cell_type": "code",
   "execution_count": 12,
   "metadata": {},
   "outputs": [
    {
     "output_type": "execute_result",
     "data": {
      "text/plain": [
       "Student ID       0\n",
       "Gender           0\n",
       "Ethnicity        0\n",
       "FSA_ELA          0\n",
       "FSA_MATH         0\n",
       "Retained         0\n",
       "Attendance       0\n",
       "Behavior         0\n",
       "Fall_Diag_x      0\n",
       "Winter_Diag_x    0\n",
       "Fall_Diag_y      0\n",
       "Winter_Diag_y    0\n",
       "dtype: int64"
      ]
     },
     "metadata": {},
     "execution_count": 12
    }
   ],
   "source": [
    "# Checking if null data \n",
    "all_data.isnull().sum()"
   ]
  },
  {
   "cell_type": "code",
   "execution_count": 13,
   "metadata": {},
   "outputs": [
    {
     "output_type": "execute_result",
     "data": {
      "text/plain": [
       "Student ID       0\n",
       "Gender           0\n",
       "Ethnicity        0\n",
       "FSA_ELA          0\n",
       "FSA_MATH         0\n",
       "Retained         0\n",
       "Attendance       0\n",
       "Behavior         0\n",
       "Fall_Diag_x      0\n",
       "Winter_Diag_x    0\n",
       "Fall_Diag_y      0\n",
       "Winter_Diag_y    0\n",
       "dtype: int64"
      ]
     },
     "metadata": {},
     "execution_count": 13
    }
   ],
   "source": [
    "# Checking if na data\n",
    "all_data.isna().sum()"
   ]
  },
  {
   "cell_type": "code",
   "execution_count": 14,
   "metadata": {},
   "outputs": [],
   "source": [
    "# Export all_data\n",
    "# all_data.to_csv('all_data.csv',index=False)"
   ]
  },
  {
   "cell_type": "code",
   "execution_count": 15,
   "metadata": {},
   "outputs": [],
   "source": [
    "# Export math and ela data\n",
    "# math_data.to_csv('math_data_joined.csv',index=False)\n",
    "# ela_data.to_csv('ela_data_joined.csv',index=False)"
   ]
  },
  {
   "cell_type": "code",
   "execution_count": 16,
   "metadata": {},
   "outputs": [
    {
     "output_type": "execute_result",
     "data": {
      "text/plain": [
       "         Student ID     FSA_ELA   Fall_Diag  Winter_Diag\n",
       "count  2.130000e+02  213.000000  213.000000   213.000000\n",
       "mean   3.591254e+09    3.173709  515.093897   536.680751\n",
       "std    3.507787e+08    1.078461   41.332415    36.078419\n",
       "min    1.300604e+09    1.000000  372.000000   410.000000\n",
       "25%    3.530192e+09    2.000000  491.000000   517.000000\n",
       "50%    3.555562e+09    3.000000  518.000000   539.000000\n",
       "75%    3.577092e+09    4.000000  543.000000   562.000000\n",
       "max    5.926007e+09    5.000000  612.000000   620.000000"
      ],
      "text/html": "<div>\n<style scoped>\n    .dataframe tbody tr th:only-of-type {\n        vertical-align: middle;\n    }\n\n    .dataframe tbody tr th {\n        vertical-align: top;\n    }\n\n    .dataframe thead th {\n        text-align: right;\n    }\n</style>\n<table border=\"1\" class=\"dataframe\">\n  <thead>\n    <tr style=\"text-align: right;\">\n      <th></th>\n      <th>Student ID</th>\n      <th>FSA_ELA</th>\n      <th>Fall_Diag</th>\n      <th>Winter_Diag</th>\n    </tr>\n  </thead>\n  <tbody>\n    <tr>\n      <th>count</th>\n      <td>2.130000e+02</td>\n      <td>213.000000</td>\n      <td>213.000000</td>\n      <td>213.000000</td>\n    </tr>\n    <tr>\n      <th>mean</th>\n      <td>3.591254e+09</td>\n      <td>3.173709</td>\n      <td>515.093897</td>\n      <td>536.680751</td>\n    </tr>\n    <tr>\n      <th>std</th>\n      <td>3.507787e+08</td>\n      <td>1.078461</td>\n      <td>41.332415</td>\n      <td>36.078419</td>\n    </tr>\n    <tr>\n      <th>min</th>\n      <td>1.300604e+09</td>\n      <td>1.000000</td>\n      <td>372.000000</td>\n      <td>410.000000</td>\n    </tr>\n    <tr>\n      <th>25%</th>\n      <td>3.530192e+09</td>\n      <td>2.000000</td>\n      <td>491.000000</td>\n      <td>517.000000</td>\n    </tr>\n    <tr>\n      <th>50%</th>\n      <td>3.555562e+09</td>\n      <td>3.000000</td>\n      <td>518.000000</td>\n      <td>539.000000</td>\n    </tr>\n    <tr>\n      <th>75%</th>\n      <td>3.577092e+09</td>\n      <td>4.000000</td>\n      <td>543.000000</td>\n      <td>562.000000</td>\n    </tr>\n    <tr>\n      <th>max</th>\n      <td>5.926007e+09</td>\n      <td>5.000000</td>\n      <td>612.000000</td>\n      <td>620.000000</td>\n    </tr>\n  </tbody>\n</table>\n</div>"
     },
     "metadata": {},
     "execution_count": 16
    }
   ],
   "source": [
    "# Descriptive statistics for ELA\n",
    "ela_data.describe()"
   ]
  },
  {
   "cell_type": "code",
   "execution_count": 17,
   "metadata": {},
   "outputs": [
    {
     "output_type": "execute_result",
     "data": {
      "text/plain": [
       "         Student ID    FSA_MATH   Fall_Diag  Winter_Diag\n",
       "count  2.130000e+02  213.000000  213.000000   213.000000\n",
       "mean   3.591254e+09    3.417840  436.305164   450.516432\n",
       "std    3.507787e+08    1.177245   20.392512    19.566191\n",
       "min    1.300604e+09    1.000000  365.000000   380.000000\n",
       "25%    3.530192e+09    3.000000  426.000000   442.000000\n",
       "50%    3.555562e+09    3.000000  438.000000   453.000000\n",
       "75%    3.577092e+09    4.000000  450.000000   462.000000\n",
       "max    5.926007e+09    5.000000  486.000000   496.000000"
      ],
      "text/html": "<div>\n<style scoped>\n    .dataframe tbody tr th:only-of-type {\n        vertical-align: middle;\n    }\n\n    .dataframe tbody tr th {\n        vertical-align: top;\n    }\n\n    .dataframe thead th {\n        text-align: right;\n    }\n</style>\n<table border=\"1\" class=\"dataframe\">\n  <thead>\n    <tr style=\"text-align: right;\">\n      <th></th>\n      <th>Student ID</th>\n      <th>FSA_MATH</th>\n      <th>Fall_Diag</th>\n      <th>Winter_Diag</th>\n    </tr>\n  </thead>\n  <tbody>\n    <tr>\n      <th>count</th>\n      <td>2.130000e+02</td>\n      <td>213.000000</td>\n      <td>213.000000</td>\n      <td>213.000000</td>\n    </tr>\n    <tr>\n      <th>mean</th>\n      <td>3.591254e+09</td>\n      <td>3.417840</td>\n      <td>436.305164</td>\n      <td>450.516432</td>\n    </tr>\n    <tr>\n      <th>std</th>\n      <td>3.507787e+08</td>\n      <td>1.177245</td>\n      <td>20.392512</td>\n      <td>19.566191</td>\n    </tr>\n    <tr>\n      <th>min</th>\n      <td>1.300604e+09</td>\n      <td>1.000000</td>\n      <td>365.000000</td>\n      <td>380.000000</td>\n    </tr>\n    <tr>\n      <th>25%</th>\n      <td>3.530192e+09</td>\n      <td>3.000000</td>\n      <td>426.000000</td>\n      <td>442.000000</td>\n    </tr>\n    <tr>\n      <th>50%</th>\n      <td>3.555562e+09</td>\n      <td>3.000000</td>\n      <td>438.000000</td>\n      <td>453.000000</td>\n    </tr>\n    <tr>\n      <th>75%</th>\n      <td>3.577092e+09</td>\n      <td>4.000000</td>\n      <td>450.000000</td>\n      <td>462.000000</td>\n    </tr>\n    <tr>\n      <th>max</th>\n      <td>5.926007e+09</td>\n      <td>5.000000</td>\n      <td>486.000000</td>\n      <td>496.000000</td>\n    </tr>\n  </tbody>\n</table>\n</div>"
     },
     "metadata": {},
     "execution_count": 17
    }
   ],
   "source": [
    "# Descriptive statistics for MATH\n",
    "math_data.describe()"
   ]
  },
  {
   "cell_type": "code",
   "execution_count": 18,
   "metadata": {},
   "outputs": [],
   "source": [
    "# diag_bins = [0, 416, 467, 518, 569, 620]\n",
    "# group_names = [\"365-416\", \"417-467\", \"468-518\", \"519-569\", \"570-620\"]"
   ]
  },
  {
   "cell_type": "code",
   "execution_count": 19,
   "metadata": {},
   "outputs": [],
   "source": [
    "# Establish bins and group names for ELA.\n",
    "diag_binsELA = [0, 422, 472, 521, 571, 620]\n",
    "group_namesELA = [1, 2, 3, 4, 5]"
   ]
  },
  {
   "cell_type": "code",
   "execution_count": 20,
   "metadata": {},
   "outputs": [],
   "source": [
    "# Establish bins ELA per students Winter\n",
    "bins_per_student_ela_w = ela_data.set_index(['Student ID'])['Winter_Diag']"
   ]
  },
  {
   "cell_type": "code",
   "execution_count": 21,
   "metadata": {},
   "outputs": [
    {
     "output_type": "execute_result",
     "data": {
      "text/plain": [
       "Student ID\n",
       "3505181649    564.0\n",
       "3507461649    584.0\n",
       "3508041649    528.0\n",
       "3509881649    556.0\n",
       "3510171549    534.0\n",
       "              ...  \n",
       "3531461508    593.0\n",
       "3571921508    522.0\n",
       "3582191508    554.0\n",
       "3592081508    534.0\n",
       "3535761308    519.0\n",
       "Name: Winter_Diag, Length: 213, dtype: float64"
      ]
     },
     "metadata": {},
     "execution_count": 21
    }
   ],
   "source": [
    "bins_per_student_ela_w"
   ]
  },
  {
   "cell_type": "code",
   "execution_count": 22,
   "metadata": {},
   "outputs": [
    {
     "output_type": "execute_result",
     "data": {
      "text/plain": [
       "1"
      ]
     },
     "metadata": {},
     "execution_count": 22
    }
   ],
   "source": [
    "bins_per_student_ela_w.ndim"
   ]
  },
  {
   "cell_type": "code",
   "execution_count": 23,
   "metadata": {},
   "outputs": [
    {
     "output_type": "execute_result",
     "data": {
      "text/plain": [
       "Winter_Diag\n",
       "(0, 422]        3\n",
       "(422, 472]      8\n",
       "(472, 521]     51\n",
       "(521, 571]    120\n",
       "(571, 620]     31\n",
       "Name: Winter_Diag, dtype: int64"
      ]
     },
     "metadata": {},
     "execution_count": 23
    }
   ],
   "source": [
    "#  Students in each group of bins for ELA Winter\n",
    "bins_per_student_ela_w.groupby(pd.cut(bins_per_student_ela_w, diag_binsELA)).count()"
   ]
  },
  {
   "cell_type": "code",
   "execution_count": 24,
   "metadata": {},
   "outputs": [
    {
     "output_type": "execute_result",
     "data": {
      "text/plain": [
       "count    213.000000\n",
       "mean     536.680751\n",
       "std       36.078419\n",
       "min      410.000000\n",
       "25%      517.000000\n",
       "50%      539.000000\n",
       "75%      562.000000\n",
       "max      620.000000\n",
       "Name: Winter_Diag, dtype: float64"
      ]
     },
     "metadata": {},
     "execution_count": 24
    }
   ],
   "source": [
    "bins_per_student_ela_w.describe()"
   ]
  },
  {
   "cell_type": "code",
   "execution_count": 25,
   "metadata": {},
   "outputs": [],
   "source": [
    "bins_winter_ela = pd.cut(bins_per_student_ela_w, diag_binsELA, labels=group_namesELA)\n",
    "\n"
   ]
  },
  {
   "cell_type": "code",
   "execution_count": 26,
   "metadata": {},
   "outputs": [
    {
     "output_type": "execute_result",
     "data": {
      "text/plain": [
       "           Bins_Winter\n",
       "Student ID            \n",
       "3505181649           4\n",
       "3507461649           5\n",
       "3508041649           4\n",
       "3509881649           4\n",
       "3510171549           4\n",
       "...                ...\n",
       "3531461508           5\n",
       "3571921508           4\n",
       "3582191508           4\n",
       "3592081508           4\n",
       "3535761308           3\n",
       "\n",
       "[213 rows x 1 columns]"
      ],
      "text/html": "<div>\n<style scoped>\n    .dataframe tbody tr th:only-of-type {\n        vertical-align: middle;\n    }\n\n    .dataframe tbody tr th {\n        vertical-align: top;\n    }\n\n    .dataframe thead th {\n        text-align: right;\n    }\n</style>\n<table border=\"1\" class=\"dataframe\">\n  <thead>\n    <tr style=\"text-align: right;\">\n      <th></th>\n      <th>Bins_Winter</th>\n    </tr>\n    <tr>\n      <th>Student ID</th>\n      <th></th>\n    </tr>\n  </thead>\n  <tbody>\n    <tr>\n      <th>3505181649</th>\n      <td>4</td>\n    </tr>\n    <tr>\n      <th>3507461649</th>\n      <td>5</td>\n    </tr>\n    <tr>\n      <th>3508041649</th>\n      <td>4</td>\n    </tr>\n    <tr>\n      <th>3509881649</th>\n      <td>4</td>\n    </tr>\n    <tr>\n      <th>3510171549</th>\n      <td>4</td>\n    </tr>\n    <tr>\n      <th>...</th>\n      <td>...</td>\n    </tr>\n    <tr>\n      <th>3531461508</th>\n      <td>5</td>\n    </tr>\n    <tr>\n      <th>3571921508</th>\n      <td>4</td>\n    </tr>\n    <tr>\n      <th>3582191508</th>\n      <td>4</td>\n    </tr>\n    <tr>\n      <th>3592081508</th>\n      <td>4</td>\n    </tr>\n    <tr>\n      <th>3535761308</th>\n      <td>3</td>\n    </tr>\n  </tbody>\n</table>\n<p>213 rows × 1 columns</p>\n</div>"
     },
     "metadata": {},
     "execution_count": 26
    }
   ],
   "source": [
    "#  Converting bins ELA in DataFrame\n",
    "bins_winter_ela = pd.DataFrame(bins_winter_ela)\n",
    "bins_winter_ela = bins_winter_ela.rename(columns={'Winter_Diag': 'Bins_Winter'})\n",
    "bins_winter_ela\n"
   ]
  },
  {
   "cell_type": "code",
   "execution_count": 27,
   "metadata": {},
   "outputs": [],
   "source": [
    "# Merging ELA data with ELA bins\n",
    "bins_ela_winter = ela_data.merge(bins_winter_ela,on='Student ID')"
   ]
  },
  {
   "source": [
    "## ELA BINS Winter"
   ],
   "cell_type": "markdown",
   "metadata": {}
  },
  {
   "cell_type": "code",
   "execution_count": 28,
   "metadata": {},
   "outputs": [
    {
     "output_type": "execute_result",
     "data": {
      "text/plain": [
       "     Student ID Gender         Ethnicity  FSA_ELA Retained Attendance  \\\n",
       "80   3513041608      F  African American        2       NO         NO   \n",
       "58   3579081649      F      Multi-Racial        3       NO         NO   \n",
       "189  3577201309      F         Caucasian        3      yes         no   \n",
       "155  3594231409      M  African American        3       no        yes   \n",
       "34   3554381669      F             Asian        2       NO         NO   \n",
       "37   3554711649      F          Hispanic        4       NO         NO   \n",
       "49   3569341204      F             Asian        1      YES         NO   \n",
       "23   3523291649      F             Asian        2       NO         NO   \n",
       "126  3585181628      F          Hispanic        2       NO         NO   \n",
       "53   3572921649      M         Caucasian        5       NO         NO   \n",
       "\n",
       "    Behavior  Fall_Diag  Winter_Diag Bins_Winter  \n",
       "80        NO      474.0        507.0           3  \n",
       "58        NO      492.0        545.0           4  \n",
       "189       no      487.0        519.0           3  \n",
       "155       no      495.0        514.0           3  \n",
       "34        NO      525.0        524.0           4  \n",
       "37        NO      526.0        530.0           4  \n",
       "49        NO      372.0        450.0           2  \n",
       "23        NO      505.0        524.0           4  \n",
       "126       NO      487.0        503.0           3  \n",
       "53        NO      554.0        582.0           5  "
      ],
      "text/html": "<div>\n<style scoped>\n    .dataframe tbody tr th:only-of-type {\n        vertical-align: middle;\n    }\n\n    .dataframe tbody tr th {\n        vertical-align: top;\n    }\n\n    .dataframe thead th {\n        text-align: right;\n    }\n</style>\n<table border=\"1\" class=\"dataframe\">\n  <thead>\n    <tr style=\"text-align: right;\">\n      <th></th>\n      <th>Student ID</th>\n      <th>Gender</th>\n      <th>Ethnicity</th>\n      <th>FSA_ELA</th>\n      <th>Retained</th>\n      <th>Attendance</th>\n      <th>Behavior</th>\n      <th>Fall_Diag</th>\n      <th>Winter_Diag</th>\n      <th>Bins_Winter</th>\n    </tr>\n  </thead>\n  <tbody>\n    <tr>\n      <th>80</th>\n      <td>3513041608</td>\n      <td>F</td>\n      <td>African American</td>\n      <td>2</td>\n      <td>NO</td>\n      <td>NO</td>\n      <td>NO</td>\n      <td>474.0</td>\n      <td>507.0</td>\n      <td>3</td>\n    </tr>\n    <tr>\n      <th>58</th>\n      <td>3579081649</td>\n      <td>F</td>\n      <td>Multi-Racial</td>\n      <td>3</td>\n      <td>NO</td>\n      <td>NO</td>\n      <td>NO</td>\n      <td>492.0</td>\n      <td>545.0</td>\n      <td>4</td>\n    </tr>\n    <tr>\n      <th>189</th>\n      <td>3577201309</td>\n      <td>F</td>\n      <td>Caucasian</td>\n      <td>3</td>\n      <td>yes</td>\n      <td>no</td>\n      <td>no</td>\n      <td>487.0</td>\n      <td>519.0</td>\n      <td>3</td>\n    </tr>\n    <tr>\n      <th>155</th>\n      <td>3594231409</td>\n      <td>M</td>\n      <td>African American</td>\n      <td>3</td>\n      <td>no</td>\n      <td>yes</td>\n      <td>no</td>\n      <td>495.0</td>\n      <td>514.0</td>\n      <td>3</td>\n    </tr>\n    <tr>\n      <th>34</th>\n      <td>3554381669</td>\n      <td>F</td>\n      <td>Asian</td>\n      <td>2</td>\n      <td>NO</td>\n      <td>NO</td>\n      <td>NO</td>\n      <td>525.0</td>\n      <td>524.0</td>\n      <td>4</td>\n    </tr>\n    <tr>\n      <th>37</th>\n      <td>3554711649</td>\n      <td>F</td>\n      <td>Hispanic</td>\n      <td>4</td>\n      <td>NO</td>\n      <td>NO</td>\n      <td>NO</td>\n      <td>526.0</td>\n      <td>530.0</td>\n      <td>4</td>\n    </tr>\n    <tr>\n      <th>49</th>\n      <td>3569341204</td>\n      <td>F</td>\n      <td>Asian</td>\n      <td>1</td>\n      <td>YES</td>\n      <td>NO</td>\n      <td>NO</td>\n      <td>372.0</td>\n      <td>450.0</td>\n      <td>2</td>\n    </tr>\n    <tr>\n      <th>23</th>\n      <td>3523291649</td>\n      <td>F</td>\n      <td>Asian</td>\n      <td>2</td>\n      <td>NO</td>\n      <td>NO</td>\n      <td>NO</td>\n      <td>505.0</td>\n      <td>524.0</td>\n      <td>4</td>\n    </tr>\n    <tr>\n      <th>126</th>\n      <td>3585181628</td>\n      <td>F</td>\n      <td>Hispanic</td>\n      <td>2</td>\n      <td>NO</td>\n      <td>NO</td>\n      <td>NO</td>\n      <td>487.0</td>\n      <td>503.0</td>\n      <td>3</td>\n    </tr>\n    <tr>\n      <th>53</th>\n      <td>3572921649</td>\n      <td>M</td>\n      <td>Caucasian</td>\n      <td>5</td>\n      <td>NO</td>\n      <td>NO</td>\n      <td>NO</td>\n      <td>554.0</td>\n      <td>582.0</td>\n      <td>5</td>\n    </tr>\n  </tbody>\n</table>\n</div>"
     },
     "metadata": {},
     "execution_count": 28
    }
   ],
   "source": [
    "bins_ela_winter.sample(10)"
   ]
  },
  {
   "cell_type": "code",
   "execution_count": 29,
   "metadata": {},
   "outputs": [],
   "source": [
    "# Establish bins and group names.\n",
    "# diag_bins = [0, 422, 472, 521, 571, 620]\n",
    "# group_names = [1, 2, 3, 4, 5]\n",
    "# ela_data[\"Bins_Winter\"] = pd.cut(bins_per_student_ela, diag_bins, labels=group_names)"
   ]
  },
  {
   "cell_type": "code",
   "execution_count": 30,
   "metadata": {},
   "outputs": [],
   "source": [
    "# ela_data.sample(15)"
   ]
  },
  {
   "cell_type": "code",
   "execution_count": 31,
   "metadata": {},
   "outputs": [],
   "source": [
    "# Establish bins and group names for MATH.\n",
    "diag_binsMATH = [0, 392, 418, 444, 470, 500]\n",
    "group_namesMATH = [1, 2, 3, 4, 5]"
   ]
  },
  {
   "cell_type": "code",
   "execution_count": 32,
   "metadata": {},
   "outputs": [],
   "source": [
    "# Establish bins MATH Winter per students\n",
    "bins_per_student_math_w = math_data.set_index(['Student ID'])['Winter_Diag']"
   ]
  },
  {
   "cell_type": "code",
   "execution_count": 33,
   "metadata": {},
   "outputs": [
    {
     "output_type": "execute_result",
     "data": {
      "text/plain": [
       "Student ID\n",
       "3505181649    446\n",
       "3507461649    460\n",
       "3508041649    467\n",
       "3509881649    496\n",
       "3510171549    443\n",
       "             ... \n",
       "3531461508    460\n",
       "3571921508    442\n",
       "3582191508    463\n",
       "3592081508    442\n",
       "3535761308    449\n",
       "Name: Winter_Diag, Length: 213, dtype: int64"
      ]
     },
     "metadata": {},
     "execution_count": 33
    }
   ],
   "source": [
    "bins_per_student_math_w"
   ]
  },
  {
   "cell_type": "code",
   "execution_count": 34,
   "metadata": {},
   "outputs": [
    {
     "output_type": "execute_result",
     "data": {
      "text/plain": [
       "Winter_Diag\n",
       "(0, 392]        3\n",
       "(392, 418]     11\n",
       "(418, 444]     53\n",
       "(444, 470]    124\n",
       "(470, 500]     22\n",
       "Name: Winter_Diag, dtype: int64"
      ]
     },
     "metadata": {},
     "execution_count": 34
    }
   ],
   "source": [
    "#  Students in each group of bins for MATH Winter\n",
    "bins_per_student_math_w.groupby(pd.cut(bins_per_student_math_w, diag_binsMATH)).count()"
   ]
  },
  {
   "cell_type": "code",
   "execution_count": 35,
   "metadata": {},
   "outputs": [
    {
     "output_type": "execute_result",
     "data": {
      "text/plain": [
       "count    213.000000\n",
       "mean     450.516432\n",
       "std       19.566191\n",
       "min      380.000000\n",
       "25%      442.000000\n",
       "50%      453.000000\n",
       "75%      462.000000\n",
       "max      496.000000\n",
       "Name: Winter_Diag, dtype: float64"
      ]
     },
     "metadata": {},
     "execution_count": 35
    }
   ],
   "source": [
    "bins_per_student_math_w.describe()"
   ]
  },
  {
   "cell_type": "code",
   "execution_count": 36,
   "metadata": {},
   "outputs": [],
   "source": [
    "bins_winter_math = pd.cut(bins_per_student_math_w, diag_binsMATH, labels=group_namesMATH)"
   ]
  },
  {
   "cell_type": "code",
   "execution_count": 37,
   "metadata": {},
   "outputs": [
    {
     "output_type": "execute_result",
     "data": {
      "text/plain": [
       "           Bins_Winter\n",
       "Student ID            \n",
       "3505181649           4\n",
       "3507461649           4\n",
       "3508041649           4\n",
       "3509881649           5\n",
       "3510171549           3\n",
       "...                ...\n",
       "3531461508           4\n",
       "3571921508           3\n",
       "3582191508           4\n",
       "3592081508           3\n",
       "3535761308           4\n",
       "\n",
       "[213 rows x 1 columns]"
      ],
      "text/html": "<div>\n<style scoped>\n    .dataframe tbody tr th:only-of-type {\n        vertical-align: middle;\n    }\n\n    .dataframe tbody tr th {\n        vertical-align: top;\n    }\n\n    .dataframe thead th {\n        text-align: right;\n    }\n</style>\n<table border=\"1\" class=\"dataframe\">\n  <thead>\n    <tr style=\"text-align: right;\">\n      <th></th>\n      <th>Bins_Winter</th>\n    </tr>\n    <tr>\n      <th>Student ID</th>\n      <th></th>\n    </tr>\n  </thead>\n  <tbody>\n    <tr>\n      <th>3505181649</th>\n      <td>4</td>\n    </tr>\n    <tr>\n      <th>3507461649</th>\n      <td>4</td>\n    </tr>\n    <tr>\n      <th>3508041649</th>\n      <td>4</td>\n    </tr>\n    <tr>\n      <th>3509881649</th>\n      <td>5</td>\n    </tr>\n    <tr>\n      <th>3510171549</th>\n      <td>3</td>\n    </tr>\n    <tr>\n      <th>...</th>\n      <td>...</td>\n    </tr>\n    <tr>\n      <th>3531461508</th>\n      <td>4</td>\n    </tr>\n    <tr>\n      <th>3571921508</th>\n      <td>3</td>\n    </tr>\n    <tr>\n      <th>3582191508</th>\n      <td>4</td>\n    </tr>\n    <tr>\n      <th>3592081508</th>\n      <td>3</td>\n    </tr>\n    <tr>\n      <th>3535761308</th>\n      <td>4</td>\n    </tr>\n  </tbody>\n</table>\n<p>213 rows × 1 columns</p>\n</div>"
     },
     "metadata": {},
     "execution_count": 37
    }
   ],
   "source": [
    "#  Converting bins MATH in DataFrame\n",
    "bins_winter_math = pd.DataFrame(bins_winter_math)\n",
    "bins_winter_math = bins_winter_math.rename(columns={'Winter_Diag': 'Bins_Winter'})\n",
    "bins_winter_math"
   ]
  },
  {
   "cell_type": "code",
   "execution_count": 38,
   "metadata": {},
   "outputs": [],
   "source": [
    "# Merging MATH data with MATH bins\n",
    "bins_math_winter = math_data.merge(bins_winter_math,on='Student ID')"
   ]
  },
  {
   "source": [
    "## MATH BINS Winter"
   ],
   "cell_type": "markdown",
   "metadata": {}
  },
  {
   "cell_type": "code",
   "execution_count": 39,
   "metadata": {},
   "outputs": [
    {
     "output_type": "execute_result",
     "data": {
      "text/plain": [
       "     Student ID Gender         Ethnicity  FSA_MATH Retained Attendance  \\\n",
       "189  3577201309      F         Caucasian         3      yes         no   \n",
       "108  3556711608      F          Hispanic         5       NO         NO   \n",
       "62   3581171649      F         Caucasian         4       NO         NO   \n",
       "198  3553261508      F          Hispanic         4       no         no   \n",
       "138  3573231309      F  African American         2       no        yes   \n",
       "47   3569341649      F             Asian         5       NO         NO   \n",
       "75   3505811608      M      Multi-Racial         3       NO         NO   \n",
       "142  3594151577      M  African American         5       no         no   \n",
       "141  3571471509      F  African American         2       no         no   \n",
       "92   3534541531      F  African American         3       NO         NO   \n",
       "\n",
       "    Behavior  Fall_Diag  Winter_Diag Bins_Winter  \n",
       "189       no        442          451           4  \n",
       "108       NO        458          475           5  \n",
       "62        NO        476          458           4  \n",
       "198       no        440          447           4  \n",
       "138      yes        410          425           3  \n",
       "47        NO        467          486           5  \n",
       "75        NO        434          461           4  \n",
       "142       no        441          465           4  \n",
       "141      yes        437          448           4  \n",
       "92        NO        439          445           4  "
      ],
      "text/html": "<div>\n<style scoped>\n    .dataframe tbody tr th:only-of-type {\n        vertical-align: middle;\n    }\n\n    .dataframe tbody tr th {\n        vertical-align: top;\n    }\n\n    .dataframe thead th {\n        text-align: right;\n    }\n</style>\n<table border=\"1\" class=\"dataframe\">\n  <thead>\n    <tr style=\"text-align: right;\">\n      <th></th>\n      <th>Student ID</th>\n      <th>Gender</th>\n      <th>Ethnicity</th>\n      <th>FSA_MATH</th>\n      <th>Retained</th>\n      <th>Attendance</th>\n      <th>Behavior</th>\n      <th>Fall_Diag</th>\n      <th>Winter_Diag</th>\n      <th>Bins_Winter</th>\n    </tr>\n  </thead>\n  <tbody>\n    <tr>\n      <th>189</th>\n      <td>3577201309</td>\n      <td>F</td>\n      <td>Caucasian</td>\n      <td>3</td>\n      <td>yes</td>\n      <td>no</td>\n      <td>no</td>\n      <td>442</td>\n      <td>451</td>\n      <td>4</td>\n    </tr>\n    <tr>\n      <th>108</th>\n      <td>3556711608</td>\n      <td>F</td>\n      <td>Hispanic</td>\n      <td>5</td>\n      <td>NO</td>\n      <td>NO</td>\n      <td>NO</td>\n      <td>458</td>\n      <td>475</td>\n      <td>5</td>\n    </tr>\n    <tr>\n      <th>62</th>\n      <td>3581171649</td>\n      <td>F</td>\n      <td>Caucasian</td>\n      <td>4</td>\n      <td>NO</td>\n      <td>NO</td>\n      <td>NO</td>\n      <td>476</td>\n      <td>458</td>\n      <td>4</td>\n    </tr>\n    <tr>\n      <th>198</th>\n      <td>3553261508</td>\n      <td>F</td>\n      <td>Hispanic</td>\n      <td>4</td>\n      <td>no</td>\n      <td>no</td>\n      <td>no</td>\n      <td>440</td>\n      <td>447</td>\n      <td>4</td>\n    </tr>\n    <tr>\n      <th>138</th>\n      <td>3573231309</td>\n      <td>F</td>\n      <td>African American</td>\n      <td>2</td>\n      <td>no</td>\n      <td>yes</td>\n      <td>yes</td>\n      <td>410</td>\n      <td>425</td>\n      <td>3</td>\n    </tr>\n    <tr>\n      <th>47</th>\n      <td>3569341649</td>\n      <td>F</td>\n      <td>Asian</td>\n      <td>5</td>\n      <td>NO</td>\n      <td>NO</td>\n      <td>NO</td>\n      <td>467</td>\n      <td>486</td>\n      <td>5</td>\n    </tr>\n    <tr>\n      <th>75</th>\n      <td>3505811608</td>\n      <td>M</td>\n      <td>Multi-Racial</td>\n      <td>3</td>\n      <td>NO</td>\n      <td>NO</td>\n      <td>NO</td>\n      <td>434</td>\n      <td>461</td>\n      <td>4</td>\n    </tr>\n    <tr>\n      <th>142</th>\n      <td>3594151577</td>\n      <td>M</td>\n      <td>African American</td>\n      <td>5</td>\n      <td>no</td>\n      <td>no</td>\n      <td>no</td>\n      <td>441</td>\n      <td>465</td>\n      <td>4</td>\n    </tr>\n    <tr>\n      <th>141</th>\n      <td>3571471509</td>\n      <td>F</td>\n      <td>African American</td>\n      <td>2</td>\n      <td>no</td>\n      <td>no</td>\n      <td>yes</td>\n      <td>437</td>\n      <td>448</td>\n      <td>4</td>\n    </tr>\n    <tr>\n      <th>92</th>\n      <td>3534541531</td>\n      <td>F</td>\n      <td>African American</td>\n      <td>3</td>\n      <td>NO</td>\n      <td>NO</td>\n      <td>NO</td>\n      <td>439</td>\n      <td>445</td>\n      <td>4</td>\n    </tr>\n  </tbody>\n</table>\n</div>"
     },
     "metadata": {},
     "execution_count": 39
    }
   ],
   "source": [
    "bins_math_winter.sample(10)"
   ]
  },
  {
   "cell_type": "code",
   "execution_count": 40,
   "metadata": {},
   "outputs": [
    {
     "output_type": "execute_result",
     "data": {
      "text/plain": [
       "         Student ID    FSA_MATH   Fall_Diag  Winter_Diag\n",
       "count  2.130000e+02  213.000000  213.000000   213.000000\n",
       "mean   3.591254e+09    3.417840  436.305164   450.516432\n",
       "std    3.507787e+08    1.177245   20.392512    19.566191\n",
       "min    1.300604e+09    1.000000  365.000000   380.000000\n",
       "25%    3.530192e+09    3.000000  426.000000   442.000000\n",
       "50%    3.555562e+09    3.000000  438.000000   453.000000\n",
       "75%    3.577092e+09    4.000000  450.000000   462.000000\n",
       "max    5.926007e+09    5.000000  486.000000   496.000000"
      ],
      "text/html": "<div>\n<style scoped>\n    .dataframe tbody tr th:only-of-type {\n        vertical-align: middle;\n    }\n\n    .dataframe tbody tr th {\n        vertical-align: top;\n    }\n\n    .dataframe thead th {\n        text-align: right;\n    }\n</style>\n<table border=\"1\" class=\"dataframe\">\n  <thead>\n    <tr style=\"text-align: right;\">\n      <th></th>\n      <th>Student ID</th>\n      <th>FSA_MATH</th>\n      <th>Fall_Diag</th>\n      <th>Winter_Diag</th>\n    </tr>\n  </thead>\n  <tbody>\n    <tr>\n      <th>count</th>\n      <td>2.130000e+02</td>\n      <td>213.000000</td>\n      <td>213.000000</td>\n      <td>213.000000</td>\n    </tr>\n    <tr>\n      <th>mean</th>\n      <td>3.591254e+09</td>\n      <td>3.417840</td>\n      <td>436.305164</td>\n      <td>450.516432</td>\n    </tr>\n    <tr>\n      <th>std</th>\n      <td>3.507787e+08</td>\n      <td>1.177245</td>\n      <td>20.392512</td>\n      <td>19.566191</td>\n    </tr>\n    <tr>\n      <th>min</th>\n      <td>1.300604e+09</td>\n      <td>1.000000</td>\n      <td>365.000000</td>\n      <td>380.000000</td>\n    </tr>\n    <tr>\n      <th>25%</th>\n      <td>3.530192e+09</td>\n      <td>3.000000</td>\n      <td>426.000000</td>\n      <td>442.000000</td>\n    </tr>\n    <tr>\n      <th>50%</th>\n      <td>3.555562e+09</td>\n      <td>3.000000</td>\n      <td>438.000000</td>\n      <td>453.000000</td>\n    </tr>\n    <tr>\n      <th>75%</th>\n      <td>3.577092e+09</td>\n      <td>4.000000</td>\n      <td>450.000000</td>\n      <td>462.000000</td>\n    </tr>\n    <tr>\n      <th>max</th>\n      <td>5.926007e+09</td>\n      <td>5.000000</td>\n      <td>486.000000</td>\n      <td>496.000000</td>\n    </tr>\n  </tbody>\n</table>\n</div>"
     },
     "metadata": {},
     "execution_count": 40
    }
   ],
   "source": [
    "bins_math_winter.describe()"
   ]
  },
  {
   "cell_type": "code",
   "execution_count": 41,
   "metadata": {},
   "outputs": [],
   "source": [
    "# bins_ela_avrg = bins_ela.groupby([\"Bins_Winter\"]).mean()[\"Winter_Diag\"]"
   ]
  },
  {
   "cell_type": "code",
   "execution_count": 42,
   "metadata": {},
   "outputs": [],
   "source": [
    "# bins_ela_avrg"
   ]
  },
  {
   "cell_type": "code",
   "execution_count": 43,
   "metadata": {},
   "outputs": [
    {
     "output_type": "execute_result",
     "data": {
      "text/plain": [
       "Student ID\n",
       "3505181649    536.0\n",
       "3507461649    564.0\n",
       "3508041649    531.0\n",
       "3509881649    530.0\n",
       "3510171549    518.0\n",
       "              ...  \n",
       "3531461508    612.0\n",
       "3571921508    503.0\n",
       "3582191508    522.0\n",
       "3592081508    529.0\n",
       "3535761308    497.0\n",
       "Name: Fall_Diag, Length: 213, dtype: float64"
      ]
     },
     "metadata": {},
     "execution_count": 43
    }
   ],
   "source": [
    "# Establish bins ELA per students Fall\n",
    "bins_per_student_ela_f = ela_data.set_index(['Student ID'])['Fall_Diag']\n",
    "bins_per_student_ela_f"
   ]
  },
  {
   "cell_type": "code",
   "execution_count": 44,
   "metadata": {},
   "outputs": [
    {
     "output_type": "execute_result",
     "data": {
      "text/plain": [
       "Fall_Diag\n",
       "(0, 422]       6\n",
       "(422, 472]    21\n",
       "(472, 521]    86\n",
       "(521, 571]    83\n",
       "(571, 620]    17\n",
       "Name: Fall_Diag, dtype: int64"
      ]
     },
     "metadata": {},
     "execution_count": 44
    }
   ],
   "source": [
    "#  Students in each group of bins for ELA Fall\n",
    "bins_per_student_ela_f.groupby(pd.cut(bins_per_student_ela_f, diag_binsELA)).count()"
   ]
  },
  {
   "cell_type": "code",
   "execution_count": 45,
   "metadata": {},
   "outputs": [],
   "source": [
    "bins_fall_ela = pd.cut(bins_per_student_ela_f, diag_binsELA, labels=group_namesELA)"
   ]
  },
  {
   "cell_type": "code",
   "execution_count": 46,
   "metadata": {},
   "outputs": [
    {
     "output_type": "execute_result",
     "data": {
      "text/plain": [
       "           Bins_Fall\n",
       "Student ID          \n",
       "3505181649         4\n",
       "3507461649         4\n",
       "3508041649         4\n",
       "3509881649         4\n",
       "3510171549         3\n",
       "...              ...\n",
       "3531461508         5\n",
       "3571921508         3\n",
       "3582191508         4\n",
       "3592081508         4\n",
       "3535761308         3\n",
       "\n",
       "[213 rows x 1 columns]"
      ],
      "text/html": "<div>\n<style scoped>\n    .dataframe tbody tr th:only-of-type {\n        vertical-align: middle;\n    }\n\n    .dataframe tbody tr th {\n        vertical-align: top;\n    }\n\n    .dataframe thead th {\n        text-align: right;\n    }\n</style>\n<table border=\"1\" class=\"dataframe\">\n  <thead>\n    <tr style=\"text-align: right;\">\n      <th></th>\n      <th>Bins_Fall</th>\n    </tr>\n    <tr>\n      <th>Student ID</th>\n      <th></th>\n    </tr>\n  </thead>\n  <tbody>\n    <tr>\n      <th>3505181649</th>\n      <td>4</td>\n    </tr>\n    <tr>\n      <th>3507461649</th>\n      <td>4</td>\n    </tr>\n    <tr>\n      <th>3508041649</th>\n      <td>4</td>\n    </tr>\n    <tr>\n      <th>3509881649</th>\n      <td>4</td>\n    </tr>\n    <tr>\n      <th>3510171549</th>\n      <td>3</td>\n    </tr>\n    <tr>\n      <th>...</th>\n      <td>...</td>\n    </tr>\n    <tr>\n      <th>3531461508</th>\n      <td>5</td>\n    </tr>\n    <tr>\n      <th>3571921508</th>\n      <td>3</td>\n    </tr>\n    <tr>\n      <th>3582191508</th>\n      <td>4</td>\n    </tr>\n    <tr>\n      <th>3592081508</th>\n      <td>4</td>\n    </tr>\n    <tr>\n      <th>3535761308</th>\n      <td>3</td>\n    </tr>\n  </tbody>\n</table>\n<p>213 rows × 1 columns</p>\n</div>"
     },
     "metadata": {},
     "execution_count": 46
    }
   ],
   "source": [
    "#  Converting bins ELA Fall in DataFrame\n",
    "bins_fall_ela = pd.DataFrame(bins_fall_ela)\n",
    "bins_fall_ela = bins_fall_ela.rename(columns={'Fall_Diag': 'Bins_Fall'})\n",
    "bins_fall_ela"
   ]
  },
  {
   "cell_type": "code",
   "execution_count": 47,
   "metadata": {},
   "outputs": [
    {
     "output_type": "execute_result",
     "data": {
      "text/plain": [
       "count    213.000000\n",
       "mean     515.093897\n",
       "std       41.332415\n",
       "min      372.000000\n",
       "25%      491.000000\n",
       "50%      518.000000\n",
       "75%      543.000000\n",
       "max      612.000000\n",
       "Name: Fall_Diag, dtype: float64"
      ]
     },
     "metadata": {},
     "execution_count": 47
    }
   ],
   "source": [
    "bins_per_student_ela_f.describe()"
   ]
  },
  {
   "cell_type": "code",
   "execution_count": 48,
   "metadata": {},
   "outputs": [],
   "source": [
    "# Merging ELA Fall data with ELA Fall bins\n",
    "bins_ela_fall = ela_data.merge(bins_fall_ela,on='Student ID')"
   ]
  },
  {
   "source": [
    "## ELA BINS Fall"
   ],
   "cell_type": "markdown",
   "metadata": {}
  },
  {
   "cell_type": "code",
   "execution_count": 49,
   "metadata": {},
   "outputs": [
    {
     "output_type": "execute_result",
     "data": {
      "text/plain": [
       "     Student ID Gender         Ethnicity  FSA_ELA Retained Attendance  \\\n",
       "129  3594091608      M  African American        3       NO         NO   \n",
       "22   3521041796      M         Caucasian        4       NO         NO   \n",
       "193  3545691508      F         Caucasian        3       no         no   \n",
       "87   3527761508      F  African American        2      YES         NO   \n",
       "79   3511241635      F  African American        3       NO         NO   \n",
       "59   3579541649      M          Hispanic        3       NO         NO   \n",
       "201  3556041536      M         Caucasian        3       no         no   \n",
       "141  3571471509      F  African American        2       no         no   \n",
       "212  3535761308      M         Caucasian        3      yes         no   \n",
       "153  3570291408      M  African American        3      yes        yes   \n",
       "\n",
       "    Behavior  Fall_Diag  Winter_Diag Bins_Fall  \n",
       "129       NO      487.0        489.0         3  \n",
       "22        NO      502.0        571.0         3  \n",
       "193       no      493.0        538.0         3  \n",
       "87        NO      475.0        513.0         3  \n",
       "79        NO      524.0        562.0         4  \n",
       "59        NO      512.0        539.0         3  \n",
       "201       no      488.0        517.0         3  \n",
       "141      yes      505.0        515.0         3  \n",
       "212       no      497.0        519.0         3  \n",
       "153       no      491.0        543.0         3  "
      ],
      "text/html": "<div>\n<style scoped>\n    .dataframe tbody tr th:only-of-type {\n        vertical-align: middle;\n    }\n\n    .dataframe tbody tr th {\n        vertical-align: top;\n    }\n\n    .dataframe thead th {\n        text-align: right;\n    }\n</style>\n<table border=\"1\" class=\"dataframe\">\n  <thead>\n    <tr style=\"text-align: right;\">\n      <th></th>\n      <th>Student ID</th>\n      <th>Gender</th>\n      <th>Ethnicity</th>\n      <th>FSA_ELA</th>\n      <th>Retained</th>\n      <th>Attendance</th>\n      <th>Behavior</th>\n      <th>Fall_Diag</th>\n      <th>Winter_Diag</th>\n      <th>Bins_Fall</th>\n    </tr>\n  </thead>\n  <tbody>\n    <tr>\n      <th>129</th>\n      <td>3594091608</td>\n      <td>M</td>\n      <td>African American</td>\n      <td>3</td>\n      <td>NO</td>\n      <td>NO</td>\n      <td>NO</td>\n      <td>487.0</td>\n      <td>489.0</td>\n      <td>3</td>\n    </tr>\n    <tr>\n      <th>22</th>\n      <td>3521041796</td>\n      <td>M</td>\n      <td>Caucasian</td>\n      <td>4</td>\n      <td>NO</td>\n      <td>NO</td>\n      <td>NO</td>\n      <td>502.0</td>\n      <td>571.0</td>\n      <td>3</td>\n    </tr>\n    <tr>\n      <th>193</th>\n      <td>3545691508</td>\n      <td>F</td>\n      <td>Caucasian</td>\n      <td>3</td>\n      <td>no</td>\n      <td>no</td>\n      <td>no</td>\n      <td>493.0</td>\n      <td>538.0</td>\n      <td>3</td>\n    </tr>\n    <tr>\n      <th>87</th>\n      <td>3527761508</td>\n      <td>F</td>\n      <td>African American</td>\n      <td>2</td>\n      <td>YES</td>\n      <td>NO</td>\n      <td>NO</td>\n      <td>475.0</td>\n      <td>513.0</td>\n      <td>3</td>\n    </tr>\n    <tr>\n      <th>79</th>\n      <td>3511241635</td>\n      <td>F</td>\n      <td>African American</td>\n      <td>3</td>\n      <td>NO</td>\n      <td>NO</td>\n      <td>NO</td>\n      <td>524.0</td>\n      <td>562.0</td>\n      <td>4</td>\n    </tr>\n    <tr>\n      <th>59</th>\n      <td>3579541649</td>\n      <td>M</td>\n      <td>Hispanic</td>\n      <td>3</td>\n      <td>NO</td>\n      <td>NO</td>\n      <td>NO</td>\n      <td>512.0</td>\n      <td>539.0</td>\n      <td>3</td>\n    </tr>\n    <tr>\n      <th>201</th>\n      <td>3556041536</td>\n      <td>M</td>\n      <td>Caucasian</td>\n      <td>3</td>\n      <td>no</td>\n      <td>no</td>\n      <td>no</td>\n      <td>488.0</td>\n      <td>517.0</td>\n      <td>3</td>\n    </tr>\n    <tr>\n      <th>141</th>\n      <td>3571471509</td>\n      <td>F</td>\n      <td>African American</td>\n      <td>2</td>\n      <td>no</td>\n      <td>no</td>\n      <td>yes</td>\n      <td>505.0</td>\n      <td>515.0</td>\n      <td>3</td>\n    </tr>\n    <tr>\n      <th>212</th>\n      <td>3535761308</td>\n      <td>M</td>\n      <td>Caucasian</td>\n      <td>3</td>\n      <td>yes</td>\n      <td>no</td>\n      <td>no</td>\n      <td>497.0</td>\n      <td>519.0</td>\n      <td>3</td>\n    </tr>\n    <tr>\n      <th>153</th>\n      <td>3570291408</td>\n      <td>M</td>\n      <td>African American</td>\n      <td>3</td>\n      <td>yes</td>\n      <td>yes</td>\n      <td>no</td>\n      <td>491.0</td>\n      <td>543.0</td>\n      <td>3</td>\n    </tr>\n  </tbody>\n</table>\n</div>"
     },
     "metadata": {},
     "execution_count": 49
    }
   ],
   "source": [
    "bins_ela_fall.sample(10)"
   ]
  },
  {
   "cell_type": "code",
   "execution_count": 50,
   "metadata": {},
   "outputs": [],
   "source": [
    "# Establish bins MATH Fall per students\n",
    "bins_per_student_math_f = math_data.set_index(['Student ID'])['Fall_Diag']"
   ]
  },
  {
   "cell_type": "code",
   "execution_count": 51,
   "metadata": {},
   "outputs": [
    {
     "output_type": "execute_result",
     "data": {
      "text/plain": [
       "Student ID\n",
       "3505181649    456\n",
       "3507461649    457\n",
       "3508041649    465\n",
       "3509881649    476\n",
       "3510171549    443\n",
       "             ... \n",
       "3531461508    451\n",
       "3571921508    422\n",
       "3582191508    450\n",
       "3592081508    433\n",
       "3535761308    435\n",
       "Name: Fall_Diag, Length: 213, dtype: int64"
      ]
     },
     "metadata": {},
     "execution_count": 51
    }
   ],
   "source": [
    "bins_per_student_math_f"
   ]
  },
  {
   "cell_type": "code",
   "execution_count": 52,
   "metadata": {},
   "outputs": [
    {
     "output_type": "execute_result",
     "data": {
      "text/plain": [
       "Fall_Diag\n",
       "(0, 392]        7\n",
       "(392, 418]     30\n",
       "(418, 444]    102\n",
       "(444, 470]     65\n",
       "(470, 500]      9\n",
       "Name: Fall_Diag, dtype: int64"
      ]
     },
     "metadata": {},
     "execution_count": 52
    }
   ],
   "source": [
    "#  Students in each group of bins for MATH Fall\n",
    "bins_per_student_math_f.groupby(pd.cut(bins_per_student_math_f, diag_binsMATH)).count()"
   ]
  },
  {
   "cell_type": "code",
   "execution_count": 53,
   "metadata": {},
   "outputs": [
    {
     "output_type": "execute_result",
     "data": {
      "text/plain": [
       "count    213.000000\n",
       "mean     436.305164\n",
       "std       20.392512\n",
       "min      365.000000\n",
       "25%      426.000000\n",
       "50%      438.000000\n",
       "75%      450.000000\n",
       "max      486.000000\n",
       "Name: Fall_Diag, dtype: float64"
      ]
     },
     "metadata": {},
     "execution_count": 53
    }
   ],
   "source": [
    "bins_per_student_math_f.describe()"
   ]
  },
  {
   "cell_type": "code",
   "execution_count": 54,
   "metadata": {},
   "outputs": [],
   "source": [
    "bins_fall_math = pd.cut(bins_per_student_math_f, diag_binsMATH, labels=group_namesMATH)"
   ]
  },
  {
   "cell_type": "code",
   "execution_count": 55,
   "metadata": {},
   "outputs": [
    {
     "output_type": "execute_result",
     "data": {
      "text/plain": [
       "           Bins_Fall\n",
       "Student ID          \n",
       "3505181649         4\n",
       "3507461649         4\n",
       "3508041649         4\n",
       "3509881649         5\n",
       "3510171549         3\n",
       "...              ...\n",
       "3531461508         4\n",
       "3571921508         3\n",
       "3582191508         4\n",
       "3592081508         3\n",
       "3535761308         3\n",
       "\n",
       "[213 rows x 1 columns]"
      ],
      "text/html": "<div>\n<style scoped>\n    .dataframe tbody tr th:only-of-type {\n        vertical-align: middle;\n    }\n\n    .dataframe tbody tr th {\n        vertical-align: top;\n    }\n\n    .dataframe thead th {\n        text-align: right;\n    }\n</style>\n<table border=\"1\" class=\"dataframe\">\n  <thead>\n    <tr style=\"text-align: right;\">\n      <th></th>\n      <th>Bins_Fall</th>\n    </tr>\n    <tr>\n      <th>Student ID</th>\n      <th></th>\n    </tr>\n  </thead>\n  <tbody>\n    <tr>\n      <th>3505181649</th>\n      <td>4</td>\n    </tr>\n    <tr>\n      <th>3507461649</th>\n      <td>4</td>\n    </tr>\n    <tr>\n      <th>3508041649</th>\n      <td>4</td>\n    </tr>\n    <tr>\n      <th>3509881649</th>\n      <td>5</td>\n    </tr>\n    <tr>\n      <th>3510171549</th>\n      <td>3</td>\n    </tr>\n    <tr>\n      <th>...</th>\n      <td>...</td>\n    </tr>\n    <tr>\n      <th>3531461508</th>\n      <td>4</td>\n    </tr>\n    <tr>\n      <th>3571921508</th>\n      <td>3</td>\n    </tr>\n    <tr>\n      <th>3582191508</th>\n      <td>4</td>\n    </tr>\n    <tr>\n      <th>3592081508</th>\n      <td>3</td>\n    </tr>\n    <tr>\n      <th>3535761308</th>\n      <td>3</td>\n    </tr>\n  </tbody>\n</table>\n<p>213 rows × 1 columns</p>\n</div>"
     },
     "metadata": {},
     "execution_count": 55
    }
   ],
   "source": [
    "#  Converting bins MATH Fall in DataFrame\n",
    "bins_fall_math = pd.DataFrame(bins_fall_math)\n",
    "bins_fall_math = bins_fall_math.rename(columns={'Fall_Diag': 'Bins_Fall'})\n",
    "bins_fall_math"
   ]
  },
  {
   "cell_type": "code",
   "execution_count": 56,
   "metadata": {},
   "outputs": [],
   "source": [
    "# Merging MATH Fall data with MATH Fall bins\n",
    "bins_math_fall = math_data.merge(bins_fall_math,on='Student ID')"
   ]
  },
  {
   "source": [
    "## MATH BINS Fall"
   ],
   "cell_type": "markdown",
   "metadata": {}
  },
  {
   "cell_type": "code",
   "execution_count": 57,
   "metadata": {},
   "outputs": [
    {
     "output_type": "execute_result",
     "data": {
      "text/plain": [
       "     Student ID Gender         Ethnicity  FSA_MATH Retained Attendance  \\\n",
       "10   3512421649      M         Caucasian         3       NO         NO   \n",
       "0    3505181649      M         Caucasian         4       NO         NO   \n",
       "42   3559751649      M             Asian         4       NO         NO   \n",
       "3    3509881649      M         Caucasian         5       NO         NO   \n",
       "119  3576991160      F          Hispanic         1      YES         NO   \n",
       "133  4804295625      F  African American         4       NO         NO   \n",
       "109  3559751988      F  African American         4       NO         NO   \n",
       "103  3551991508      M          Hispanic         4      YES         NO   \n",
       "209  3571921508      F         Caucasian         3       no         no   \n",
       "107  3556621635      F      Multi-Racial         3       NO         NO   \n",
       "\n",
       "    Behavior  Fall_Diag  Winter_Diag Bins_Fall  \n",
       "10        NO        436          456         3  \n",
       "0         NO        456          446         4  \n",
       "42        NO        452          455         4  \n",
       "3         NO        476          496         5  \n",
       "119       NO        413          409         2  \n",
       "133       NO        431          444         3  \n",
       "109       NO        454          472         4  \n",
       "103       NO        438          462         3  \n",
       "209       no        422          442         3  \n",
       "107       NO        443          446         3  "
      ],
      "text/html": "<div>\n<style scoped>\n    .dataframe tbody tr th:only-of-type {\n        vertical-align: middle;\n    }\n\n    .dataframe tbody tr th {\n        vertical-align: top;\n    }\n\n    .dataframe thead th {\n        text-align: right;\n    }\n</style>\n<table border=\"1\" class=\"dataframe\">\n  <thead>\n    <tr style=\"text-align: right;\">\n      <th></th>\n      <th>Student ID</th>\n      <th>Gender</th>\n      <th>Ethnicity</th>\n      <th>FSA_MATH</th>\n      <th>Retained</th>\n      <th>Attendance</th>\n      <th>Behavior</th>\n      <th>Fall_Diag</th>\n      <th>Winter_Diag</th>\n      <th>Bins_Fall</th>\n    </tr>\n  </thead>\n  <tbody>\n    <tr>\n      <th>10</th>\n      <td>3512421649</td>\n      <td>M</td>\n      <td>Caucasian</td>\n      <td>3</td>\n      <td>NO</td>\n      <td>NO</td>\n      <td>NO</td>\n      <td>436</td>\n      <td>456</td>\n      <td>3</td>\n    </tr>\n    <tr>\n      <th>0</th>\n      <td>3505181649</td>\n      <td>M</td>\n      <td>Caucasian</td>\n      <td>4</td>\n      <td>NO</td>\n      <td>NO</td>\n      <td>NO</td>\n      <td>456</td>\n      <td>446</td>\n      <td>4</td>\n    </tr>\n    <tr>\n      <th>42</th>\n      <td>3559751649</td>\n      <td>M</td>\n      <td>Asian</td>\n      <td>4</td>\n      <td>NO</td>\n      <td>NO</td>\n      <td>NO</td>\n      <td>452</td>\n      <td>455</td>\n      <td>4</td>\n    </tr>\n    <tr>\n      <th>3</th>\n      <td>3509881649</td>\n      <td>M</td>\n      <td>Caucasian</td>\n      <td>5</td>\n      <td>NO</td>\n      <td>NO</td>\n      <td>NO</td>\n      <td>476</td>\n      <td>496</td>\n      <td>5</td>\n    </tr>\n    <tr>\n      <th>119</th>\n      <td>3576991160</td>\n      <td>F</td>\n      <td>Hispanic</td>\n      <td>1</td>\n      <td>YES</td>\n      <td>NO</td>\n      <td>NO</td>\n      <td>413</td>\n      <td>409</td>\n      <td>2</td>\n    </tr>\n    <tr>\n      <th>133</th>\n      <td>4804295625</td>\n      <td>F</td>\n      <td>African American</td>\n      <td>4</td>\n      <td>NO</td>\n      <td>NO</td>\n      <td>NO</td>\n      <td>431</td>\n      <td>444</td>\n      <td>3</td>\n    </tr>\n    <tr>\n      <th>109</th>\n      <td>3559751988</td>\n      <td>F</td>\n      <td>African American</td>\n      <td>4</td>\n      <td>NO</td>\n      <td>NO</td>\n      <td>NO</td>\n      <td>454</td>\n      <td>472</td>\n      <td>4</td>\n    </tr>\n    <tr>\n      <th>103</th>\n      <td>3551991508</td>\n      <td>M</td>\n      <td>Hispanic</td>\n      <td>4</td>\n      <td>YES</td>\n      <td>NO</td>\n      <td>NO</td>\n      <td>438</td>\n      <td>462</td>\n      <td>3</td>\n    </tr>\n    <tr>\n      <th>209</th>\n      <td>3571921508</td>\n      <td>F</td>\n      <td>Caucasian</td>\n      <td>3</td>\n      <td>no</td>\n      <td>no</td>\n      <td>no</td>\n      <td>422</td>\n      <td>442</td>\n      <td>3</td>\n    </tr>\n    <tr>\n      <th>107</th>\n      <td>3556621635</td>\n      <td>F</td>\n      <td>Multi-Racial</td>\n      <td>3</td>\n      <td>NO</td>\n      <td>NO</td>\n      <td>NO</td>\n      <td>443</td>\n      <td>446</td>\n      <td>3</td>\n    </tr>\n  </tbody>\n</table>\n</div>"
     },
     "metadata": {},
     "execution_count": 57
    }
   ],
   "source": [
    "bins_math_fall.sample(10)"
   ]
  },
  {
   "cell_type": "code",
   "execution_count": 58,
   "metadata": {},
   "outputs": [],
   "source": [
    "# # Export bins_ela_winter\n",
    "# bins_ela_winter.to_csv('bins_ela_winter.csv',index=False)\n",
    "\n",
    "# # Export bins_math_winter\n",
    "# bins_math_winter.to_csv('bins_math_winter.csv',index=False)\n",
    "\n",
    "# # Export bins_ela_fall\n",
    "# bins_ela_fall.to_csv('bins_ela_fall.csv',index=False)\n",
    "\n",
    "# # Export bins_math_fall\n",
    "# bins_math_fall.to_csv('bins_math_fall.csv',index=False)"
   ]
  },
  {
   "cell_type": "code",
   "execution_count": null,
   "metadata": {},
   "outputs": [],
   "source": []
  }
 ]
}